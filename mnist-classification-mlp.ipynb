{
 "cells": [
  {
   "cell_type": "markdown",
   "metadata": {},
   "source": [
    "# MNIST Dataset Classification with a Multilayer Perceptron"
   ]
  },
  {
   "cell_type": "markdown",
   "metadata": {},
   "source": [
    "This notebook gives an example how the MNIST dataset can be classified using a Multilayer Perceptron (MLP) with one hidden layer. Moreover it is using Tensorboard for visualization."
   ]
  },
  {
   "cell_type": "markdown",
   "metadata": {},
   "source": [
    "## Data Setup"
   ]
  },
  {
   "cell_type": "code",
   "execution_count": null,
   "metadata": {},
   "outputs": [],
   "source": [
    "from tensorflow.examples.tutorials.mnist import input_data\n",
    "from tensorflow.contrib.tensorboard.plugins import projector\n",
    "import os\n",
    "\n",
    "mnist = input_data.read_data_sets('MNIST_data', one_hot=True)\n",
    "\n",
    "LOG_DIR = \"/tmp/mnist/5\" #path for tensorBoard\n",
    "\n",
    "#define paths for embedding\n",
    "path_for_mnist_sprites =  os.path.join(LOG_DIR,'mnistdigits.png') \n",
    "path_for_mnist_metadata =  os.path.join(LOG_DIR,'metadata.tsv')"
   ]
  },
  {
   "cell_type": "markdown",
   "metadata": {},
   "source": [
    "## Building the model\n",
    "\n",
    "A simple model that can be used to classify MNIST images is depicted in the figure below. The model takes the *flat* input image $X$ (the 1D tensors) in its input layer, has one hidden layer with 100 neurons and a rectifier activation function, and a outputlayer with 10 neurons (one for each possible digit). The activation function of the outputlayer is a softmax-function. Therefore, each neuron of the output layer outputs the probability $p(y=j|X)$ that the current input $X$ belongs to the class $j$ represented by this neuron.\n"
   ]
  },
  {
   "cell_type": "markdown",
   "metadata": {},
   "source": [
    "![svg image](data:image/svg+xml,%3C%21DOCTYPE%20svg%20PUBLIC%20%22-%2F%2FW3C%2F%2FDTD%20SVG%201.1%2F%2FEN%22%20%22http%3A%2F%2Fwww.w3.org%2FGraphics%2FSVG%2F1.1%2FDTD%2Fsvg11.dtd%22%3E%0D%0A%3Csvg%20xmlns%3D%22http%3A%2F%2Fwww.w3.org%2F2000%2Fsvg%22%20xmlns%3Axlink%3D%22http%3A%2F%2Fwww.w3.org%2F1999%2Fxlink%22%20width%3D%22521px%22%20height%3D%22391px%22%20version%3D%221.1%22%3E%3Cdefs%2F%3E%3Cg%20transform%3D%22translate%280.5%2C0.5%29%22%3E%3Cpath%20d%3D%22M%2050.19%2024.86%20L%20223.91%2053.81%22%20fill%3D%22none%22%20stroke%3D%22%2382b366%22%20stroke-miterlimit%3D%2210%22%20pointer-events%3D%22none%22%2F%3E%3Cpath%20d%3D%22M%20229.09%2054.67%20L%20221.61%2056.97%20L%20223.91%2053.81%20L%20222.76%2050.07%20Z%22%20fill%3D%22%2382b366%22%20stroke%3D%22%2382b366%22%20stroke-miterlimit%3D%2210%22%20pointer-events%3D%22none%22%2F%3E%3Cg%20transform%3D%22translate%28132.5%2C31.5%29%22%3E%3Cswitch%3E%3CforeignObject%20style%3D%22overflow%3Avisible%3B%22%20pointer-events%3D%22all%22%20width%3D%2229%22%20height%3D%2214%22%20requiredFeatures%3D%22http%3A%2F%2Fwww.w3.org%2FTR%2FSVG11%2Ffeature%23Extensibility%22%3E%3Cdiv%20xmlns%3D%22http%3A%2F%2Fwww.w3.org%2F1999%2Fxhtml%22%20style%3D%22display%3A%20inline-block%3B%20font-size%3A%2012px%3B%20font-family%3A%20Helvetica%3B%20color%3A%20rgb%28151%2C%20208%2C%20119%29%3B%20line-height%3A%201.2%3B%20vertical-align%3A%20top%3B%20white-space%3A%20nowrap%3B%20text-align%3A%20center%3B%22%3E%3Cdiv%20xmlns%3D%22http%3A%2F%2Fwww.w3.org%2F1999%2Fxhtml%22%20style%3D%22display%3Ainline-block%3Btext-align%3Ainherit%3Btext-decoration%3Ainherit%3Bbackground-color%3A%23ffffff%3B%22%3Ew1%3Csub%3E1%2C1%3C%2Fsub%3E%3C%2Fdiv%3E%3C%2Fdiv%3E%3C%2FforeignObject%3E%3Ctext%20x%3D%2215%22%20y%3D%2213%22%20fill%3D%22%2397D077%22%20text-anchor%3D%22middle%22%20font-size%3D%2212px%22%20font-family%3D%22Helvetica%22%3E%5BNot%20supported%20by%20viewer%5D%3C%2Ftext%3E%3C%2Fswitch%3E%3C%2Fg%3E%3Cpath%20d%3D%22M%2050.19%2024.86%20L%20225.3%20170.78%22%20fill%3D%22none%22%20stroke%3D%22%2382b366%22%20stroke-miterlimit%3D%2210%22%20pointer-events%3D%22none%22%2F%3E%3Cpath%20d%3D%22M%20229.33%20174.14%20L%20221.71%20172.35%20L%20225.3%20170.78%20L%20226.19%20166.97%20Z%22%20fill%3D%22%2382b366%22%20stroke%3D%22%2382b366%22%20stroke-miterlimit%3D%2210%22%20pointer-events%3D%22none%22%2F%3E%3Cg%20transform%3D%22translate%28108.5%2C76.5%29%22%3E%3Cswitch%3E%3CforeignObject%20style%3D%22overflow%3Avisible%3B%22%20pointer-events%3D%22all%22%20width%3D%2229%22%20height%3D%2214%22%20requiredFeatures%3D%22http%3A%2F%2Fwww.w3.org%2FTR%2FSVG11%2Ffeature%23Extensibility%22%3E%3Cdiv%20xmlns%3D%22http%3A%2F%2Fwww.w3.org%2F1999%2Fxhtml%22%20style%3D%22display%3A%20inline-block%3B%20font-size%3A%2012px%3B%20font-family%3A%20Helvetica%3B%20color%3A%20rgb%28151%2C%20208%2C%20119%29%3B%20line-height%3A%201.2%3B%20vertical-align%3A%20top%3B%20white-space%3A%20nowrap%3B%20text-align%3A%20center%3B%22%3E%3Cdiv%20xmlns%3D%22http%3A%2F%2Fwww.w3.org%2F1999%2Fxhtml%22%20style%3D%22display%3Ainline-block%3Btext-align%3Ainherit%3Btext-decoration%3Ainherit%3Bbackground-color%3A%23ffffff%3B%22%3Ew1%3Csub%3E1%2C3%3C%2Fsub%3E%3C%2Fdiv%3E%3C%2Fdiv%3E%3C%2FforeignObject%3E%3Ctext%20x%3D%2215%22%20y%3D%2213%22%20fill%3D%22%2397D077%22%20text-anchor%3D%22middle%22%20font-size%3D%2212px%22%20font-family%3D%22Helvetica%22%3E%5BNot%20supported%20by%20viewer%5D%3C%2Ftext%3E%3C%2Fswitch%3E%3C%2Fg%3E%3Cpath%20d%3D%22M%2050.19%2024.86%20L%20224.49%20112.01%22%20fill%3D%22none%22%20stroke%3D%22%2382b366%22%20stroke-miterlimit%3D%2210%22%20pointer-events%3D%22none%22%2F%3E%3Cpath%20d%3D%22M%20229.19%20114.36%20L%20221.36%20114.36%20L%20224.49%20112.01%20L%20224.49%20108.1%20Z%22%20fill%3D%22%2382b366%22%20stroke%3D%22%2382b366%22%20stroke-miterlimit%3D%2210%22%20pointer-events%3D%22none%22%2F%3E%3Cg%20transform%3D%22translate%28112.5%2C53.5%29%22%3E%3Cswitch%3E%3CforeignObject%20style%3D%22overflow%3Avisible%3B%22%20pointer-events%3D%22all%22%20width%3D%2229%22%20height%3D%2214%22%20requiredFeatures%3D%22http%3A%2F%2Fwww.w3.org%2FTR%2FSVG11%2Ffeature%23Extensibility%22%3E%3Cdiv%20xmlns%3D%22http%3A%2F%2Fwww.w3.org%2F1999%2Fxhtml%22%20style%3D%22display%3A%20inline-block%3B%20font-size%3A%2012px%3B%20font-family%3A%20Helvetica%3B%20color%3A%20rgb%28151%2C%20208%2C%20119%29%3B%20line-height%3A%201.2%3B%20vertical-align%3A%20top%3B%20white-space%3A%20nowrap%3B%20text-align%3A%20center%3B%22%3E%3Cdiv%20xmlns%3D%22http%3A%2F%2Fwww.w3.org%2F1999%2Fxhtml%22%20style%3D%22display%3Ainline-block%3Btext-align%3Ainherit%3Btext-decoration%3Ainherit%3Bbackground-color%3A%23ffffff%3B%22%3Ew1%3Csub%3E1%2C2%3C%2Fsub%3E%3C%2Fdiv%3E%3C%2Fdiv%3E%3C%2FforeignObject%3E%3Ctext%20x%3D%2215%22%20y%3D%2213%22%20fill%3D%22%2397D077%22%20text-anchor%3D%22middle%22%20font-size%3D%2212px%22%20font-family%3D%22Helvetica%22%3E%5BNot%20supported%20by%20viewer%5D%3C%2Ftext%3E%3C%2Fswitch%3E%3C%2Fg%3E%3Cpath%20d%3D%22M%2050.19%2024.86%20L%20226.66%20289.56%22%20fill%3D%22none%22%20stroke%3D%22%2382b366%22%20stroke-miterlimit%3D%2210%22%20pointer-events%3D%22none%22%2F%3E%3Cpath%20d%3D%22M%20229.57%20293.93%20L%20222.78%20290.04%20L%20226.66%20289.56%20L%20228.6%20286.16%20Z%22%20fill%3D%22%2382b366%22%20stroke%3D%22%2382b366%22%20stroke-miterlimit%3D%2210%22%20pointer-events%3D%22none%22%2F%3E%3Cellipse%20cx%3D%2225%22%20cy%3D%2225%22%20rx%3D%2225%22%20ry%3D%2225%22%20fill%3D%22%23ffffff%22%20stroke%3D%22%23000000%22%20pointer-events%3D%22none%22%2F%3E%3Cg%20transform%3D%22translate%2817.5%2C17.5%29%22%3E%3Cswitch%3E%3CforeignObject%20style%3D%22overflow%3Avisible%3B%22%20pointer-events%3D%22all%22%20width%3D%2214%22%20height%3D%2214%22%20requiredFeatures%3D%22http%3A%2F%2Fwww.w3.org%2FTR%2FSVG11%2Ffeature%23Extensibility%22%3E%3Cdiv%20xmlns%3D%22http%3A%2F%2Fwww.w3.org%2F1999%2Fxhtml%22%20style%3D%22display%3A%20inline-block%3B%20font-size%3A%2012px%3B%20font-family%3A%20Helvetica%3B%20color%3A%20rgb%280%2C%200%2C%200%29%3B%20line-height%3A%201.2%3B%20vertical-align%3A%20top%3B%20width%3A%2015px%3B%20white-space%3A%20nowrap%3B%20word-wrap%3A%20normal%3B%20text-align%3A%20center%3B%22%3E%3Cdiv%20xmlns%3D%22http%3A%2F%2Fwww.w3.org%2F1999%2Fxhtml%22%20style%3D%22display%3Ainline-block%3Btext-align%3Ainherit%3Btext-decoration%3Ainherit%3B%22%3EX%3Csub%3E1%3C%2Fsub%3E%3C%2Fdiv%3E%3C%2Fdiv%3E%3C%2FforeignObject%3E%3Ctext%20x%3D%227%22%20y%3D%2213%22%20fill%3D%22%23000000%22%20text-anchor%3D%22middle%22%20font-size%3D%2212px%22%20font-family%3D%22Helvetica%22%3E%5BNot%20supported%20by%20viewer%5D%3C%2Ftext%3E%3C%2Fswitch%3E%3C%2Fg%3E%3Cpath%20d%3D%22M%2050.19%2084.86%20L%20223.91%20113.81%22%20fill%3D%22none%22%20stroke%3D%22%2382b366%22%20stroke-miterlimit%3D%2210%22%20pointer-events%3D%22none%22%2F%3E%3Cpath%20d%3D%22M%20229.09%20114.67%20L%20221.61%20116.97%20L%20223.91%20113.81%20L%20222.76%20110.07%20Z%22%20fill%3D%22%2382b366%22%20stroke%3D%22%2382b366%22%20stroke-miterlimit%3D%2210%22%20pointer-events%3D%22none%22%2F%3E%3Cpath%20d%3D%22M%2050.19%2084.86%20L%20224.49%20172.01%22%20fill%3D%22none%22%20stroke%3D%22%2382b366%22%20stroke-miterlimit%3D%2210%22%20pointer-events%3D%22none%22%2F%3E%3Cpath%20d%3D%22M%20229.19%20174.36%20L%20221.36%20174.36%20L%20224.49%20172.01%20L%20224.49%20168.1%20Z%22%20fill%3D%22%2382b366%22%20stroke%3D%22%2382b366%22%20stroke-miterlimit%3D%2210%22%20pointer-events%3D%22none%22%2F%3E%3Cpath%20d%3D%22M%2050.19%2084.86%20L%20223.91%2055.9%22%20fill%3D%22none%22%20stroke%3D%22%2382b366%22%20stroke-miterlimit%3D%2210%22%20pointer-events%3D%22none%22%2F%3E%3Cpath%20d%3D%22M%20229.09%2055.04%20L%20222.76%2059.64%20L%20223.91%2055.9%20L%20221.61%2052.74%20Z%22%20fill%3D%22%2382b366%22%20stroke%3D%22%2382b366%22%20stroke-miterlimit%3D%2210%22%20pointer-events%3D%22none%22%2F%3E%3Cg%20transform%3D%22translate%28157.5%2C58.5%29%22%3E%3Cswitch%3E%3CforeignObject%20style%3D%22overflow%3Avisible%3B%22%20pointer-events%3D%22all%22%20width%3D%2229%22%20height%3D%2214%22%20requiredFeatures%3D%22http%3A%2F%2Fwww.w3.org%2FTR%2FSVG11%2Ffeature%23Extensibility%22%3E%3Cdiv%20xmlns%3D%22http%3A%2F%2Fwww.w3.org%2F1999%2Fxhtml%22%20style%3D%22display%3A%20inline-block%3B%20font-size%3A%2012px%3B%20font-family%3A%20Helvetica%3B%20color%3A%20rgb%28151%2C%20208%2C%20119%29%3B%20line-height%3A%201.2%3B%20vertical-align%3A%20top%3B%20white-space%3A%20nowrap%3B%20text-align%3A%20center%3B%22%3E%3Cdiv%20xmlns%3D%22http%3A%2F%2Fwww.w3.org%2F1999%2Fxhtml%22%20style%3D%22display%3Ainline-block%3Btext-align%3Ainherit%3Btext-decoration%3Ainherit%3Bbackground-color%3A%23ffffff%3B%22%3Ew1%3Csub%3E2%2C1%3C%2Fsub%3E%3C%2Fdiv%3E%3C%2Fdiv%3E%3C%2FforeignObject%3E%3Ctext%20x%3D%2215%22%20y%3D%2213%22%20fill%3D%22%2397D077%22%20text-anchor%3D%22middle%22%20font-size%3D%2212px%22%20font-family%3D%22Helvetica%22%3E%5BNot%20supported%20by%20viewer%5D%3C%2Ftext%3E%3C%2Fswitch%3E%3C%2Fg%3E%3Cpath%20d%3D%22M%2050.19%2084.86%20L%20226.05%20290.02%22%20fill%3D%22none%22%20stroke%3D%22%2382b366%22%20stroke-miterlimit%3D%2210%22%20pointer-events%3D%22none%22%2F%3E%3Cpath%20d%3D%22M%20229.46%20294.01%20L%20222.25%20290.97%20L%20226.05%20290.02%20L%20227.56%20286.42%20Z%22%20fill%3D%22%2382b366%22%20stroke%3D%22%2382b366%22%20stroke-miterlimit%3D%2210%22%20pointer-events%3D%22none%22%2F%3E%3Cellipse%20cx%3D%2225%22%20cy%3D%2285%22%20rx%3D%2225%22%20ry%3D%2225%22%20fill%3D%22%23ffffff%22%20stroke%3D%22%23000000%22%20pointer-events%3D%22none%22%2F%3E%3Cg%20transform%3D%22translate%2817.5%2C77.5%29%22%3E%3Cswitch%3E%3CforeignObject%20style%3D%22overflow%3Avisible%3B%22%20pointer-events%3D%22all%22%20width%3D%2214%22%20height%3D%2214%22%20requiredFeatures%3D%22http%3A%2F%2Fwww.w3.org%2FTR%2FSVG11%2Ffeature%23Extensibility%22%3E%3Cdiv%20xmlns%3D%22http%3A%2F%2Fwww.w3.org%2F1999%2Fxhtml%22%20style%3D%22display%3A%20inline-block%3B%20font-size%3A%2012px%3B%20font-family%3A%20Helvetica%3B%20color%3A%20rgb%280%2C%200%2C%200%29%3B%20line-height%3A%201.2%3B%20vertical-align%3A%20top%3B%20width%3A%2015px%3B%20white-space%3A%20nowrap%3B%20word-wrap%3A%20normal%3B%20text-align%3A%20center%3B%22%3E%3Cdiv%20xmlns%3D%22http%3A%2F%2Fwww.w3.org%2F1999%2Fxhtml%22%20style%3D%22display%3Ainline-block%3Btext-align%3Ainherit%3Btext-decoration%3Ainherit%3B%22%3EX%3Csub%3E2%3C%2Fsub%3E%3C%2Fdiv%3E%3C%2Fdiv%3E%3C%2FforeignObject%3E%3Ctext%20x%3D%227%22%20y%3D%2213%22%20fill%3D%22%23000000%22%20text-anchor%3D%22middle%22%20font-size%3D%2212px%22%20font-family%3D%22Helvetica%22%3E%5BNot%20supported%20by%20viewer%5D%3C%2Ftext%3E%3C%2Fswitch%3E%3C%2Fg%3E%3Cpath%20d%3D%22M%2050.19%20144.86%20L%20223.91%20173.81%22%20fill%3D%22none%22%20stroke%3D%22%2382b366%22%20stroke-miterlimit%3D%2210%22%20pointer-events%3D%22none%22%2F%3E%3Cpath%20d%3D%22M%20229.09%20174.67%20L%20221.61%20176.97%20L%20223.91%20173.81%20L%20222.76%20170.07%20Z%22%20fill%3D%22%2382b366%22%20stroke%3D%22%2382b366%22%20stroke-miterlimit%3D%2210%22%20pointer-events%3D%22none%22%2F%3E%3Cpath%20d%3D%22M%2050.19%20144.86%20L%20223.91%20115.9%22%20fill%3D%22none%22%20stroke%3D%22%2382b366%22%20stroke-miterlimit%3D%2210%22%20pointer-events%3D%22none%22%2F%3E%3Cpath%20d%3D%22M%20229.09%20115.04%20L%20222.76%20119.64%20L%20223.91%20115.9%20L%20221.61%20112.74%20Z%22%20fill%3D%22%2382b366%22%20stroke%3D%22%2382b366%22%20stroke-miterlimit%3D%2210%22%20pointer-events%3D%22none%22%2F%3E%3Cpath%20d%3D%22M%2050.19%20144.86%20L%20224.49%2057.7%22%20fill%3D%22none%22%20stroke%3D%22%2382b366%22%20stroke-miterlimit%3D%2210%22%20pointer-events%3D%22none%22%2F%3E%3Cpath%20d%3D%22M%20229.19%2055.36%20L%20224.49%2061.62%20L%20224.49%2057.7%20L%20221.36%2055.36%20Z%22%20fill%3D%22%2382b366%22%20stroke%3D%22%2382b366%22%20stroke-miterlimit%3D%2210%22%20pointer-events%3D%22none%22%2F%3E%3Cpath%20d%3D%22M%2050.19%20144.86%20L%20225.3%20290.78%22%20fill%3D%22none%22%20stroke%3D%22%2382b366%22%20stroke-miterlimit%3D%2210%22%20pointer-events%3D%22none%22%2F%3E%3Cpath%20d%3D%22M%20229.33%20294.14%20L%20221.71%20292.35%20L%20225.3%20290.78%20L%20226.19%20286.97%20Z%22%20fill%3D%22%2382b366%22%20stroke%3D%22%2382b366%22%20stroke-miterlimit%3D%2210%22%20pointer-events%3D%22none%22%2F%3E%3Cellipse%20cx%3D%2225%22%20cy%3D%22145%22%20rx%3D%2225%22%20ry%3D%2225%22%20fill%3D%22%23ffffff%22%20stroke%3D%22%23000000%22%20pointer-events%3D%22none%22%2F%3E%3Cg%20transform%3D%22translate%2817.5%2C137.5%29%22%3E%3Cswitch%3E%3CforeignObject%20style%3D%22overflow%3Avisible%3B%22%20pointer-events%3D%22all%22%20width%3D%2214%22%20height%3D%2214%22%20requiredFeatures%3D%22http%3A%2F%2Fwww.w3.org%2FTR%2FSVG11%2Ffeature%23Extensibility%22%3E%3Cdiv%20xmlns%3D%22http%3A%2F%2Fwww.w3.org%2F1999%2Fxhtml%22%20style%3D%22display%3A%20inline-block%3B%20font-size%3A%2012px%3B%20font-family%3A%20Helvetica%3B%20color%3A%20rgb%280%2C%200%2C%200%29%3B%20line-height%3A%201.2%3B%20vertical-align%3A%20top%3B%20width%3A%2015px%3B%20white-space%3A%20nowrap%3B%20word-wrap%3A%20normal%3B%20text-align%3A%20center%3B%22%3E%3Cdiv%20xmlns%3D%22http%3A%2F%2Fwww.w3.org%2F1999%2Fxhtml%22%20style%3D%22display%3Ainline-block%3Btext-align%3Ainherit%3Btext-decoration%3Ainherit%3B%22%3EX%3Csub%3E3%3C%2Fsub%3E%3C%2Fdiv%3E%3C%2Fdiv%3E%3C%2FforeignObject%3E%3Ctext%20x%3D%227%22%20y%3D%2213%22%20fill%3D%22%23000000%22%20text-anchor%3D%22middle%22%20font-size%3D%2212px%22%20font-family%3D%22Helvetica%22%3E%5BNot%20supported%20by%20viewer%5D%3C%2Ftext%3E%3C%2Fswitch%3E%3C%2Fg%3E%3Cpath%20d%3D%22M%2050.19%20204.86%20L%20225.3%2058.93%22%20fill%3D%22none%22%20stroke%3D%22%2382b366%22%20stroke-miterlimit%3D%2210%22%20pointer-events%3D%22none%22%2F%3E%3Cpath%20d%3D%22M%20229.33%2055.57%20L%20226.19%2062.74%20L%20225.3%2058.93%20L%20221.71%2057.37%20Z%22%20fill%3D%22%2382b366%22%20stroke%3D%22%2382b366%22%20stroke-miterlimit%3D%2210%22%20pointer-events%3D%22none%22%2F%3E%3Cpath%20d%3D%22M%2050.19%20204.86%20L%20224.49%20117.7%22%20fill%3D%22none%22%20stroke%3D%22%2382b366%22%20stroke-miterlimit%3D%2210%22%20pointer-events%3D%22none%22%2F%3E%3Cpath%20d%3D%22M%20229.19%20115.36%20L%20224.49%20121.62%20L%20224.49%20117.7%20L%20221.36%20115.36%20Z%22%20fill%3D%22%2382b366%22%20stroke%3D%22%2382b366%22%20stroke-miterlimit%3D%2210%22%20pointer-events%3D%22none%22%2F%3E%3Cpath%20d%3D%22M%2050.19%20204.86%20L%20223.91%20175.9%22%20fill%3D%22none%22%20stroke%3D%22%2382b366%22%20stroke-miterlimit%3D%2210%22%20pointer-events%3D%22none%22%2F%3E%3Cpath%20d%3D%22M%20229.09%20175.04%20L%20222.76%20179.64%20L%20223.91%20175.9%20L%20221.61%20172.74%20Z%22%20fill%3D%22%2382b366%22%20stroke%3D%22%2382b366%22%20stroke-miterlimit%3D%2210%22%20pointer-events%3D%22none%22%2F%3E%3Cpath%20d%3D%22M%2050.19%20204.86%20L%20224.49%20292.01%22%20fill%3D%22none%22%20stroke%3D%22%2382b366%22%20stroke-miterlimit%3D%2210%22%20pointer-events%3D%22none%22%2F%3E%3Cpath%20d%3D%22M%20229.19%20294.36%20L%20221.36%20294.36%20L%20224.49%20292.01%20L%20224.49%20288.1%20Z%22%20fill%3D%22%2382b366%22%20stroke%3D%22%2382b366%22%20stroke-miterlimit%3D%2210%22%20pointer-events%3D%22none%22%2F%3E%3Cellipse%20cx%3D%2225%22%20cy%3D%22205%22%20rx%3D%2225%22%20ry%3D%2225%22%20fill%3D%22%23ffffff%22%20stroke%3D%22%23000000%22%20pointer-events%3D%22none%22%2F%3E%3Cg%20transform%3D%22translate%2817.5%2C197.5%29%22%3E%3Cswitch%3E%3CforeignObject%20style%3D%22overflow%3Avisible%3B%22%20pointer-events%3D%22all%22%20width%3D%2214%22%20height%3D%2214%22%20requiredFeatures%3D%22http%3A%2F%2Fwww.w3.org%2FTR%2FSVG11%2Ffeature%23Extensibility%22%3E%3Cdiv%20xmlns%3D%22http%3A%2F%2Fwww.w3.org%2F1999%2Fxhtml%22%20style%3D%22display%3A%20inline-block%3B%20font-size%3A%2012px%3B%20font-family%3A%20Helvetica%3B%20color%3A%20rgb%280%2C%200%2C%200%29%3B%20line-height%3A%201.2%3B%20vertical-align%3A%20top%3B%20width%3A%2015px%3B%20white-space%3A%20nowrap%3B%20word-wrap%3A%20normal%3B%20text-align%3A%20center%3B%22%3E%3Cdiv%20xmlns%3D%22http%3A%2F%2Fwww.w3.org%2F1999%2Fxhtml%22%20style%3D%22display%3Ainline-block%3Btext-align%3Ainherit%3Btext-decoration%3Ainherit%3B%22%3EX%3Csub%3E4%3C%2Fsub%3E%3C%2Fdiv%3E%3C%2Fdiv%3E%3C%2FforeignObject%3E%3Ctext%20x%3D%227%22%20y%3D%2213%22%20fill%3D%22%23000000%22%20text-anchor%3D%22middle%22%20font-size%3D%2212px%22%20font-family%3D%22Helvetica%22%3E%5BNot%20supported%20by%20viewer%5D%3C%2Ftext%3E%3C%2Fswitch%3E%3C%2Fg%3E%3Cpath%20d%3D%22M%2050.19%20324.86%20L%20225.3%20178.93%22%20fill%3D%22none%22%20stroke%3D%22%2382b366%22%20stroke-miterlimit%3D%2210%22%20pointer-events%3D%22none%22%2F%3E%3Cpath%20d%3D%22M%20229.33%20175.57%20L%20226.19%20182.74%20L%20225.3%20178.93%20L%20221.71%20177.37%20Z%22%20fill%3D%22%2382b366%22%20stroke%3D%22%2382b366%22%20stroke-miterlimit%3D%2210%22%20pointer-events%3D%22none%22%2F%3E%3Cpath%20d%3D%22M%2050.19%20324.86%20L%20223.91%20295.9%22%20fill%3D%22none%22%20stroke%3D%22%2382b366%22%20stroke-miterlimit%3D%2210%22%20pointer-events%3D%22none%22%2F%3E%3Cpath%20d%3D%22M%20229.09%20295.04%20L%20222.76%20299.64%20L%20223.91%20295.9%20L%20221.61%20292.74%20Z%22%20fill%3D%22%2382b366%22%20stroke%3D%22%2382b366%22%20stroke-miterlimit%3D%2210%22%20pointer-events%3D%22none%22%2F%3E%3Cg%20transform%3D%22translate%2878.5%2C306.5%29%22%3E%3Cswitch%3E%3CforeignObject%20style%3D%22overflow%3Avisible%3B%22%20pointer-events%3D%22all%22%20width%3D%2252%22%20height%3D%2214%22%20requiredFeatures%3D%22http%3A%2F%2Fwww.w3.org%2FTR%2FSVG11%2Ffeature%23Extensibility%22%3E%3Cdiv%20xmlns%3D%22http%3A%2F%2Fwww.w3.org%2F1999%2Fxhtml%22%20style%3D%22display%3A%20inline-block%3B%20font-size%3A%2012px%3B%20font-family%3A%20Helvetica%3B%20color%3A%20rgb%28151%2C%20208%2C%20119%29%3B%20line-height%3A%201.2%3B%20vertical-align%3A%20top%3B%20white-space%3A%20nowrap%3B%20text-align%3A%20center%3B%22%3E%3Cdiv%20xmlns%3D%22http%3A%2F%2Fwww.w3.org%2F1999%2Fxhtml%22%20style%3D%22display%3Ainline-block%3Btext-align%3Ainherit%3Btext-decoration%3Ainherit%3Bbackground-color%3A%23ffffff%3B%22%3Ew1%3Csub%3E784%2C100%3C%2Fsub%3E%3C%2Fdiv%3E%3C%2Fdiv%3E%3C%2FforeignObject%3E%3Ctext%20x%3D%2226%22%20y%3D%2213%22%20fill%3D%22%2397D077%22%20text-anchor%3D%22middle%22%20font-size%3D%2212px%22%20font-family%3D%22Helvetica%22%3Ew1%26lt%3Bsub%26gt%3B784%2C100%26lt%3B%2Fsub%26gt%3B%3C%2Ftext%3E%3C%2Fswitch%3E%3C%2Fg%3E%3Cpath%20d%3D%22M%2050.19%20324.86%20L%20226.05%20119.69%22%20fill%3D%22none%22%20stroke%3D%22%2382b366%22%20stroke-miterlimit%3D%2210%22%20pointer-events%3D%22none%22%2F%3E%3Cpath%20d%3D%22M%20229.46%20115.71%20L%20227.56%20123.3%20L%20226.05%20119.69%20L%20222.25%20118.74%20Z%22%20fill%3D%22%2382b366%22%20stroke%3D%22%2382b366%22%20stroke-miterlimit%3D%2210%22%20pointer-events%3D%22none%22%2F%3E%3Cpath%20d%3D%22M%2050.19%20324.86%20L%20226.66%2060.16%22%20fill%3D%22none%22%20stroke%3D%22%2382b366%22%20stroke-miterlimit%3D%2210%22%20pointer-events%3D%22none%22%2F%3E%3Cpath%20d%3D%22M%20229.57%2055.79%20L%20228.6%2063.55%20L%20226.66%2060.16%20L%20222.78%2059.67%20Z%22%20fill%3D%22%2382b366%22%20stroke%3D%22%2382b366%22%20stroke-miterlimit%3D%2210%22%20pointer-events%3D%22none%22%2F%3E%3Cellipse%20cx%3D%2225%22%20cy%3D%22325%22%20rx%3D%2225%22%20ry%3D%2225%22%20fill%3D%22%23ffffff%22%20stroke%3D%22%23000000%22%20pointer-events%3D%22none%22%2F%3E%3Cg%20transform%3D%22translate%2811.5%2C317.5%29%22%3E%3Cswitch%3E%3CforeignObject%20style%3D%22overflow%3Avisible%3B%22%20pointer-events%3D%22all%22%20width%3D%2225%22%20height%3D%2214%22%20requiredFeatures%3D%22http%3A%2F%2Fwww.w3.org%2FTR%2FSVG11%2Ffeature%23Extensibility%22%3E%3Cdiv%20xmlns%3D%22http%3A%2F%2Fwww.w3.org%2F1999%2Fxhtml%22%20style%3D%22display%3A%20inline-block%3B%20font-size%3A%2012px%3B%20font-family%3A%20Helvetica%3B%20color%3A%20rgb%280%2C%200%2C%200%29%3B%20line-height%3A%201.2%3B%20vertical-align%3A%20top%3B%20width%3A%2026px%3B%20white-space%3A%20nowrap%3B%20word-wrap%3A%20normal%3B%20text-align%3A%20center%3B%22%3E%3Cdiv%20xmlns%3D%22http%3A%2F%2Fwww.w3.org%2F1999%2Fxhtml%22%20style%3D%22display%3Ainline-block%3Btext-align%3Ainherit%3Btext-decoration%3Ainherit%3B%22%3EX%3Csub%3E784%3C%2Fsub%3E%3C%2Fdiv%3E%3C%2Fdiv%3E%3C%2FforeignObject%3E%3Ctext%20x%3D%2213%22%20y%3D%2213%22%20fill%3D%22%23000000%22%20text-anchor%3D%22middle%22%20font-size%3D%2212px%22%20font-family%3D%22Helvetica%22%3E%5BNot%20supported%20by%20viewer%5D%3C%2Ftext%3E%3C%2Fswitch%3E%3C%2Fg%3E%3Cpath%20d%3D%22M%20280.19%2054.86%20L%20465.92%20260.14%22%20fill%3D%22none%22%20stroke%3D%22%2382b366%22%20stroke-miterlimit%3D%2210%22%20pointer-events%3D%22none%22%2F%3E%3Cpath%20d%3D%22M%20469.44%20264.03%20L%20462.15%20261.19%20L%20465.92%20260.14%20L%20467.34%20256.49%20Z%22%20fill%3D%22%2382b366%22%20stroke%3D%22%2382b366%22%20stroke-miterlimit%3D%2210%22%20pointer-events%3D%22none%22%2F%3E%3Cpath%20d%3D%22M%20280.19%2054.86%20L%20464.44%20142.13%22%20fill%3D%22none%22%20stroke%3D%22%2382b366%22%20stroke-miterlimit%3D%2210%22%20pointer-events%3D%22none%22%2F%3E%3Cpath%20d%3D%22M%20469.18%20144.38%20L%20461.36%20144.55%20L%20464.44%20142.13%20L%20464.35%20138.22%20Z%22%20fill%3D%22%2382b366%22%20stroke%3D%22%2382b366%22%20stroke-miterlimit%3D%2210%22%20pointer-events%3D%22none%22%2F%3E%3Cg%20transform%3D%22translate%28335.5%2C81.5%29%22%3E%3Cswitch%3E%3CforeignObject%20style%3D%22overflow%3Avisible%3B%22%20pointer-events%3D%22all%22%20width%3D%2229%22%20height%3D%2214%22%20requiredFeatures%3D%22http%3A%2F%2Fwww.w3.org%2FTR%2FSVG11%2Ffeature%23Extensibility%22%3E%3Cdiv%20xmlns%3D%22http%3A%2F%2Fwww.w3.org%2F1999%2Fxhtml%22%20style%3D%22display%3A%20inline-block%3B%20font-size%3A%2012px%3B%20font-family%3A%20Helvetica%3B%20color%3A%20rgb%28151%2C%20208%2C%20119%29%3B%20line-height%3A%201.2%3B%20vertical-align%3A%20top%3B%20white-space%3A%20nowrap%3B%20text-align%3A%20center%3B%22%3E%3Cdiv%20xmlns%3D%22http%3A%2F%2Fwww.w3.org%2F1999%2Fxhtml%22%20style%3D%22display%3Ainline-block%3Btext-align%3Ainherit%3Btext-decoration%3Ainherit%3Bbackground-color%3A%23ffffff%3B%22%3Ew2%3Csub%3E1%2C2%3C%2Fsub%3E%3C%2Fdiv%3E%3C%2Fdiv%3E%3C%2FforeignObject%3E%3Ctext%20x%3D%2215%22%20y%3D%2213%22%20fill%3D%22%2397D077%22%20text-anchor%3D%22middle%22%20font-size%3D%2212px%22%20font-family%3D%22Helvetica%22%3E%5BNot%20supported%20by%20viewer%5D%3C%2Ftext%3E%3C%2Fswitch%3E%3C%2Fg%3E%3Cpath%20d%3D%22M%20280.19%2054.86%20L%20463.9%2083.86%22%20fill%3D%22none%22%20stroke%3D%22%2382b366%22%20stroke-miterlimit%3D%2210%22%20pointer-events%3D%22none%22%2F%3E%3Cpath%20d%3D%22M%20469.09%2084.68%20L%20461.63%2087.05%20L%20463.9%2083.86%20L%20462.72%2080.13%20Z%22%20fill%3D%22%2382b366%22%20stroke%3D%22%2382b366%22%20stroke-miterlimit%3D%2210%22%20pointer-events%3D%22none%22%2F%3E%3Cg%20transform%3D%22translate%28361.5%2C61.5%29%22%3E%3Cswitch%3E%3CforeignObject%20style%3D%22overflow%3Avisible%3B%22%20pointer-events%3D%22all%22%20width%3D%2229%22%20height%3D%2214%22%20requiredFeatures%3D%22http%3A%2F%2Fwww.w3.org%2FTR%2FSVG11%2Ffeature%23Extensibility%22%3E%3Cdiv%20xmlns%3D%22http%3A%2F%2Fwww.w3.org%2F1999%2Fxhtml%22%20style%3D%22display%3A%20inline-block%3B%20font-size%3A%2012px%3B%20font-family%3A%20Helvetica%3B%20color%3A%20rgb%28151%2C%20208%2C%20119%29%3B%20line-height%3A%201.2%3B%20vertical-align%3A%20top%3B%20white-space%3A%20nowrap%3B%20text-align%3A%20center%3B%22%3E%3Cdiv%20xmlns%3D%22http%3A%2F%2Fwww.w3.org%2F1999%2Fxhtml%22%20style%3D%22display%3Ainline-block%3Btext-align%3Ainherit%3Btext-decoration%3Ainherit%3Bbackground-color%3A%23ffffff%3B%22%3Ew2%3Csub%3E1%2C1%3C%2Fsub%3E%3C%2Fdiv%3E%3C%2Fdiv%3E%3C%2FforeignObject%3E%3Ctext%20x%3D%2215%22%20y%3D%2213%22%20fill%3D%22%2397D077%22%20text-anchor%3D%22middle%22%20font-size%3D%2212px%22%20font-family%3D%22Helvetica%22%3E%5BNot%20supported%20by%20viewer%5D%3C%2Ftext%3E%3C%2Fswitch%3E%3C%2Fg%3E%3Cellipse%20cx%3D%22255%22%20cy%3D%2255%22%20rx%3D%2225%22%20ry%3D%2225%22%20fill%3D%22%23ffffff%22%20stroke%3D%22%23000000%22%20pointer-events%3D%22none%22%2F%3E%3Cg%20transform%3D%22translate%28248.5%2C39.5%29%22%3E%3Cswitch%3E%3CforeignObject%20style%3D%22overflow%3Avisible%3B%22%20pointer-events%3D%22all%22%20width%3D%2212%22%20height%3D%2230%22%20requiredFeatures%3D%22http%3A%2F%2Fwww.w3.org%2FTR%2FSVG11%2Ffeature%23Extensibility%22%3E%3Cdiv%20xmlns%3D%22http%3A%2F%2Fwww.w3.org%2F1999%2Fxhtml%22%20style%3D%22display%3A%20inline-block%3B%20font-size%3A%2012px%3B%20font-family%3A%20Helvetica%3B%20color%3A%20rgb%280%2C%200%2C%200%29%3B%20line-height%3A%201.2%3B%20vertical-align%3A%20top%3B%20width%3A%2013px%3B%20white-space%3A%20nowrap%3B%20word-wrap%3A%20normal%3B%20text-align%3A%20center%3B%22%3E%3Cdiv%20xmlns%3D%22http%3A%2F%2Fwww.w3.org%2F1999%2Fxhtml%22%20style%3D%22display%3Ainline-block%3Btext-align%3Ainherit%3Btext-decoration%3Ainherit%3B%22%3Eh%3Csub%3E1%3C%2Fsub%3E%3Cdiv%3E%3Csub%3E%3Cbr%20%2F%3E%3C%2Fsub%3E%3C%2Fdiv%3E%3C%2Fdiv%3E%3C%2Fdiv%3E%3C%2FforeignObject%3E%3Ctext%20x%3D%226%22%20y%3D%2221%22%20fill%3D%22%23000000%22%20text-anchor%3D%22middle%22%20font-size%3D%2212px%22%20font-family%3D%22Helvetica%22%3E%5BNot%20supported%20by%20viewer%5D%3C%2Ftext%3E%3C%2Fswitch%3E%3C%2Fg%3E%3Cpath%20d%3D%22M%20280.19%20114.86%20L%20465.19%20260.91%22%20fill%3D%22none%22%20stroke%3D%22%2382b366%22%20stroke-miterlimit%3D%2210%22%20pointer-events%3D%22none%22%2F%3E%3Cpath%20d%3D%22M%20469.31%20264.16%20L%20461.65%20262.57%20L%20465.19%20260.91%20L%20465.99%20257.08%20Z%22%20fill%3D%22%2382b366%22%20stroke%3D%22%2382b366%22%20stroke-miterlimit%3D%2210%22%20pointer-events%3D%22none%22%2F%3E%3Cpath%20d%3D%22M%20280.19%20114.86%20L%20463.9%20143.86%22%20fill%3D%22none%22%20stroke%3D%22%2382b366%22%20stroke-miterlimit%3D%2210%22%20pointer-events%3D%22none%22%2F%3E%3Cpath%20d%3D%22M%20469.09%20144.68%20L%20461.63%20147.05%20L%20463.9%20143.86%20L%20462.72%20140.13%20Z%22%20fill%3D%22%2382b366%22%20stroke%3D%22%2382b366%22%20stroke-miterlimit%3D%2210%22%20pointer-events%3D%22none%22%2F%3E%3Cpath%20d%3D%22M%20280.19%20114.86%20L%20463.9%2085.85%22%20fill%3D%22none%22%20stroke%3D%22%2382b366%22%20stroke-miterlimit%3D%2210%22%20pointer-events%3D%22none%22%2F%3E%3Cpath%20d%3D%22M%20469.09%2085.03%20L%20462.72%2089.58%20L%20463.9%2085.85%20L%20461.63%2082.67%20Z%22%20fill%3D%22%2382b366%22%20stroke%3D%22%2382b366%22%20stroke-miterlimit%3D%2210%22%20pointer-events%3D%22none%22%2F%3E%3Cg%20transform%3D%22translate%28295.5%2C101.5%29%22%3E%3Cswitch%3E%3CforeignObject%20style%3D%22overflow%3Avisible%3B%22%20pointer-events%3D%22all%22%20width%3D%2229%22%20height%3D%2214%22%20requiredFeatures%3D%22http%3A%2F%2Fwww.w3.org%2FTR%2FSVG11%2Ffeature%23Extensibility%22%3E%3Cdiv%20xmlns%3D%22http%3A%2F%2Fwww.w3.org%2F1999%2Fxhtml%22%20style%3D%22display%3A%20inline-block%3B%20font-size%3A%2012px%3B%20font-family%3A%20Helvetica%3B%20color%3A%20rgb%28151%2C%20208%2C%20119%29%3B%20line-height%3A%201.2%3B%20vertical-align%3A%20top%3B%20white-space%3A%20nowrap%3B%20text-align%3A%20center%3B%22%3E%3Cdiv%20xmlns%3D%22http%3A%2F%2Fwww.w3.org%2F1999%2Fxhtml%22%20style%3D%22display%3Ainline-block%3Btext-align%3Ainherit%3Btext-decoration%3Ainherit%3Bbackground-color%3A%23ffffff%3B%22%3Ew2%3Csub%3E2%2C1%3C%2Fsub%3E%3C%2Fdiv%3E%3C%2Fdiv%3E%3C%2FforeignObject%3E%3Ctext%20x%3D%2215%22%20y%3D%2213%22%20fill%3D%22%2397D077%22%20text-anchor%3D%22middle%22%20font-size%3D%2212px%22%20font-family%3D%22Helvetica%22%3E%5BNot%20supported%20by%20viewer%5D%3C%2Ftext%3E%3C%2Fswitch%3E%3C%2Fg%3E%3Cellipse%20cx%3D%22255%22%20cy%3D%22115%22%20rx%3D%2225%22%20ry%3D%2225%22%20fill%3D%22%23ffffff%22%20stroke%3D%22%23000000%22%20pointer-events%3D%22none%22%2F%3E%3Cg%20transform%3D%22translate%28248.5%2C99.5%29%22%3E%3Cswitch%3E%3CforeignObject%20style%3D%22overflow%3Avisible%3B%22%20pointer-events%3D%22all%22%20width%3D%2212%22%20height%3D%2230%22%20requiredFeatures%3D%22http%3A%2F%2Fwww.w3.org%2FTR%2FSVG11%2Ffeature%23Extensibility%22%3E%3Cdiv%20xmlns%3D%22http%3A%2F%2Fwww.w3.org%2F1999%2Fxhtml%22%20style%3D%22display%3A%20inline-block%3B%20font-size%3A%2012px%3B%20font-family%3A%20Helvetica%3B%20color%3A%20rgb%280%2C%200%2C%200%29%3B%20line-height%3A%201.2%3B%20vertical-align%3A%20top%3B%20width%3A%2013px%3B%20white-space%3A%20nowrap%3B%20word-wrap%3A%20normal%3B%20text-align%3A%20center%3B%22%3E%3Cdiv%20xmlns%3D%22http%3A%2F%2Fwww.w3.org%2F1999%2Fxhtml%22%20style%3D%22display%3Ainline-block%3Btext-align%3Ainherit%3Btext-decoration%3Ainherit%3B%22%3Eh%3Csub%3E2%3C%2Fsub%3E%3Cdiv%3E%3Csub%3E%3Cbr%20%2F%3E%3C%2Fsub%3E%3C%2Fdiv%3E%3C%2Fdiv%3E%3C%2Fdiv%3E%3C%2FforeignObject%3E%3Ctext%20x%3D%226%22%20y%3D%2221%22%20fill%3D%22%23000000%22%20text-anchor%3D%22middle%22%20font-size%3D%2212px%22%20font-family%3D%22Helvetica%22%3E%5BNot%20supported%20by%20viewer%5D%3C%2Ftext%3E%3C%2Fswitch%3E%3C%2Fg%3E%3Cpath%20d%3D%22M%20280.19%20174.86%20L%20464.44%20262.13%22%20fill%3D%22none%22%20stroke%3D%22%2382b366%22%20stroke-miterlimit%3D%2210%22%20pointer-events%3D%22none%22%2F%3E%3Cpath%20d%3D%22M%20469.18%20264.38%20L%20461.36%20264.55%20L%20464.44%20262.13%20L%20464.35%20258.22%20Z%22%20fill%3D%22%2382b366%22%20stroke%3D%22%2382b366%22%20stroke-miterlimit%3D%2210%22%20pointer-events%3D%22none%22%2F%3E%3Cpath%20d%3D%22M%20280.19%20174.86%20L%20463.9%20145.85%22%20fill%3D%22none%22%20stroke%3D%22%2382b366%22%20stroke-miterlimit%3D%2210%22%20pointer-events%3D%22none%22%2F%3E%3Cpath%20d%3D%22M%20469.09%20145.03%20L%20462.72%20149.58%20L%20463.9%20145.85%20L%20461.63%20142.67%20Z%22%20fill%3D%22%2382b366%22%20stroke%3D%22%2382b366%22%20stroke-miterlimit%3D%2210%22%20pointer-events%3D%22none%22%2F%3E%3Cpath%20d%3D%22M%20280.19%20174.86%20L%20464.44%2087.58%22%20fill%3D%22none%22%20stroke%3D%22%2382b366%22%20stroke-miterlimit%3D%2210%22%20pointer-events%3D%22none%22%2F%3E%3Cpath%20d%3D%22M%20469.18%2085.34%20L%20464.35%2091.5%20L%20464.44%2087.58%20L%20461.36%2085.17%20Z%22%20fill%3D%22%2382b366%22%20stroke%3D%22%2382b366%22%20stroke-miterlimit%3D%2210%22%20pointer-events%3D%22none%22%2F%3E%3Cellipse%20cx%3D%22255%22%20cy%3D%22175%22%20rx%3D%2225%22%20ry%3D%2225%22%20fill%3D%22%23ffffff%22%20stroke%3D%22%23000000%22%20pointer-events%3D%22none%22%2F%3E%3Cg%20transform%3D%22translate%28248.5%2C159.5%29%22%3E%3Cswitch%3E%3CforeignObject%20style%3D%22overflow%3Avisible%3B%22%20pointer-events%3D%22all%22%20width%3D%2212%22%20height%3D%2230%22%20requiredFeatures%3D%22http%3A%2F%2Fwww.w3.org%2FTR%2FSVG11%2Ffeature%23Extensibility%22%3E%3Cdiv%20xmlns%3D%22http%3A%2F%2Fwww.w3.org%2F1999%2Fxhtml%22%20style%3D%22display%3A%20inline-block%3B%20font-size%3A%2012px%3B%20font-family%3A%20Helvetica%3B%20color%3A%20rgb%280%2C%200%2C%200%29%3B%20line-height%3A%201.2%3B%20vertical-align%3A%20top%3B%20width%3A%2013px%3B%20white-space%3A%20nowrap%3B%20word-wrap%3A%20normal%3B%20text-align%3A%20center%3B%22%3E%3Cdiv%20xmlns%3D%22http%3A%2F%2Fwww.w3.org%2F1999%2Fxhtml%22%20style%3D%22display%3Ainline-block%3Btext-align%3Ainherit%3Btext-decoration%3Ainherit%3B%22%3Eh%3Csub%3E3%3C%2Fsub%3E%3Cdiv%3E%3Csub%3E%3Cbr%20%2F%3E%3C%2Fsub%3E%3C%2Fdiv%3E%3C%2Fdiv%3E%3C%2Fdiv%3E%3C%2FforeignObject%3E%3Ctext%20x%3D%226%22%20y%3D%2221%22%20fill%3D%22%23000000%22%20text-anchor%3D%22middle%22%20font-size%3D%2212px%22%20font-family%3D%22Helvetica%22%3E%5BNot%20supported%20by%20viewer%5D%3C%2Ftext%3E%3C%2Fswitch%3E%3C%2Fg%3E%3Cpath%20d%3D%22M%20280.19%20294.86%20L%20463.9%20265.85%22%20fill%3D%22none%22%20stroke%3D%22%2382b366%22%20stroke-miterlimit%3D%2210%22%20pointer-events%3D%22none%22%2F%3E%3Cpath%20d%3D%22M%20469.09%20265.03%20L%20462.72%20269.58%20L%20463.9%20265.85%20L%20461.63%20262.67%20Z%22%20fill%3D%22%2382b366%22%20stroke%3D%22%2382b366%22%20stroke-miterlimit%3D%2210%22%20pointer-events%3D%22none%22%2F%3E%3Cg%20transform%3D%22translate%28336.5%2C272.5%29%22%3E%3Cswitch%3E%3CforeignObject%20style%3D%22overflow%3Avisible%3B%22%20pointer-events%3D%22all%22%20width%3D%2246%22%20height%3D%2214%22%20requiredFeatures%3D%22http%3A%2F%2Fwww.w3.org%2FTR%2FSVG11%2Ffeature%23Extensibility%22%3E%3Cdiv%20xmlns%3D%22http%3A%2F%2Fwww.w3.org%2F1999%2Fxhtml%22%20style%3D%22display%3A%20inline-block%3B%20font-size%3A%2012px%3B%20font-family%3A%20Helvetica%3B%20color%3A%20rgb%28151%2C%20208%2C%20119%29%3B%20line-height%3A%201.2%3B%20vertical-align%3A%20top%3B%20white-space%3A%20nowrap%3B%20text-align%3A%20center%3B%22%3E%3Cdiv%20xmlns%3D%22http%3A%2F%2Fwww.w3.org%2F1999%2Fxhtml%22%20style%3D%22display%3Ainline-block%3Btext-align%3Ainherit%3Btext-decoration%3Ainherit%3Bbackground-color%3A%23ffffff%3B%22%3Ew2%3Csub%3E100%2C10%3C%2Fsub%3E%3C%2Fdiv%3E%3C%2Fdiv%3E%3C%2FforeignObject%3E%3Ctext%20x%3D%2223%22%20y%3D%2213%22%20fill%3D%22%2397D077%22%20text-anchor%3D%22middle%22%20font-size%3D%2212px%22%20font-family%3D%22Helvetica%22%3Ew2%26lt%3Bsub%26gt%3B100%2C10%26lt%3B%2Fsub%26gt%3B%3C%2Ftext%3E%3C%2Fswitch%3E%3C%2Fg%3E%3Cpath%20d%3D%22M%20280.19%20294.86%20L%20465.19%20148.8%22%20fill%3D%22none%22%20stroke%3D%22%2382b366%22%20stroke-miterlimit%3D%2210%22%20pointer-events%3D%22none%22%2F%3E%3Cpath%20d%3D%22M%20469.31%20145.55%20L%20465.99%20152.63%20L%20465.19%20148.8%20L%20461.65%20147.14%20Z%22%20fill%3D%22%2382b366%22%20stroke%3D%22%2382b366%22%20stroke-miterlimit%3D%2210%22%20pointer-events%3D%22none%22%2F%3E%3Cpath%20d%3D%22M%20280.19%20294.86%20L%20465.92%2089.58%22%20fill%3D%22none%22%20stroke%3D%22%2382b366%22%20stroke-miterlimit%3D%2210%22%20pointer-events%3D%22none%22%2F%3E%3Cpath%20d%3D%22M%20469.44%2085.69%20L%20467.34%2093.23%20L%20465.92%2089.58%20L%20462.15%2088.53%20Z%22%20fill%3D%22%2382b366%22%20stroke%3D%22%2382b366%22%20stroke-miterlimit%3D%2210%22%20pointer-events%3D%22none%22%2F%3E%3Cg%20transform%3D%22translate%28316.5%2C229.5%29%22%3E%3Cswitch%3E%3CforeignObject%20style%3D%22overflow%3Avisible%3B%22%20pointer-events%3D%22all%22%20width%3D%2240%22%20height%3D%2214%22%20requiredFeatures%3D%22http%3A%2F%2Fwww.w3.org%2FTR%2FSVG11%2Ffeature%23Extensibility%22%3E%3Cdiv%20xmlns%3D%22http%3A%2F%2Fwww.w3.org%2F1999%2Fxhtml%22%20style%3D%22display%3A%20inline-block%3B%20font-size%3A%2012px%3B%20font-family%3A%20Helvetica%3B%20color%3A%20rgb%28151%2C%20208%2C%20119%29%3B%20line-height%3A%201.2%3B%20vertical-align%3A%20top%3B%20white-space%3A%20nowrap%3B%20text-align%3A%20center%3B%22%3E%3Cdiv%20xmlns%3D%22http%3A%2F%2Fwww.w3.org%2F1999%2Fxhtml%22%20style%3D%22display%3Ainline-block%3Btext-align%3Ainherit%3Btext-decoration%3Ainherit%3Bbackground-color%3A%23ffffff%3B%22%3Ew2%3Csub%3E100%2C1%3C%2Fsub%3E%3C%2Fdiv%3E%3C%2Fdiv%3E%3C%2FforeignObject%3E%3Ctext%20x%3D%2220%22%20y%3D%2213%22%20fill%3D%22%2397D077%22%20text-anchor%3D%22middle%22%20font-size%3D%2212px%22%20font-family%3D%22Helvetica%22%3E%5BNot%20supported%20by%20viewer%5D%3C%2Ftext%3E%3C%2Fswitch%3E%3C%2Fg%3E%3Cellipse%20cx%3D%22255%22%20cy%3D%22295%22%20rx%3D%2225%22%20ry%3D%2225%22%20fill%3D%22%23ffffff%22%20stroke%3D%22%23000000%22%20pointer-events%3D%22none%22%2F%3E%3Cg%20transform%3D%22translate%28242.5%2C279.5%29%22%3E%3Cswitch%3E%3CforeignObject%20style%3D%22overflow%3Avisible%3B%22%20pointer-events%3D%22all%22%20width%3D%2223%22%20height%3D%2230%22%20requiredFeatures%3D%22http%3A%2F%2Fwww.w3.org%2FTR%2FSVG11%2Ffeature%23Extensibility%22%3E%3Cdiv%20xmlns%3D%22http%3A%2F%2Fwww.w3.org%2F1999%2Fxhtml%22%20style%3D%22display%3A%20inline-block%3B%20font-size%3A%2012px%3B%20font-family%3A%20Helvetica%3B%20color%3A%20rgb%280%2C%200%2C%200%29%3B%20line-height%3A%201.2%3B%20vertical-align%3A%20top%3B%20width%3A%2024px%3B%20white-space%3A%20nowrap%3B%20word-wrap%3A%20normal%3B%20text-align%3A%20center%3B%22%3E%3Cdiv%20xmlns%3D%22http%3A%2F%2Fwww.w3.org%2F1999%2Fxhtml%22%20style%3D%22display%3Ainline-block%3Btext-align%3Ainherit%3Btext-decoration%3Ainherit%3B%22%3Eh%3Csub%3E100%3C%2Fsub%3E%3Cdiv%3E%3Csub%3E%3Cbr%20%2F%3E%3C%2Fsub%3E%3C%2Fdiv%3E%3C%2Fdiv%3E%3C%2Fdiv%3E%3C%2FforeignObject%3E%3Ctext%20x%3D%2212%22%20y%3D%2221%22%20fill%3D%22%23000000%22%20text-anchor%3D%22middle%22%20font-size%3D%2212px%22%20font-family%3D%22Helvetica%22%3E%5BNot%20supported%20by%20viewer%5D%3C%2Ftext%3E%3C%2Fswitch%3E%3C%2Fg%3E%3Cg%20transform%3D%22translate%2819.5%2C255.5%29rotate%2890%2C10.5%2C14%29%22%3E%3Cswitch%3E%3CforeignObject%20style%3D%22overflow%3Avisible%3B%22%20pointer-events%3D%22all%22%20width%3D%2221%22%20height%3D%2228%22%20requiredFeatures%3D%22http%3A%2F%2Fwww.w3.org%2FTR%2FSVG11%2Ffeature%23Extensibility%22%3E%3Cdiv%20xmlns%3D%22http%3A%2F%2Fwww.w3.org%2F1999%2Fxhtml%22%20style%3D%22display%3A%20inline-block%3B%20font-size%3A%2012px%3B%20font-family%3A%20Helvetica%3B%20color%3A%20rgb%280%2C%200%2C%200%29%3B%20line-height%3A%201.2%3B%20vertical-align%3A%20top%3B%20width%3A%2022px%3B%20white-space%3A%20nowrap%3B%20word-wrap%3A%20normal%3B%20text-align%3A%20center%3B%22%3E%3Cdiv%20xmlns%3D%22http%3A%2F%2Fwww.w3.org%2F1999%2Fxhtml%22%20style%3D%22display%3Ainline-block%3Btext-align%3Ainherit%3Btext-decoration%3Ainherit%3B%22%3E%3Cfont%20style%3D%22font-size%3A%2025px%22%3E...%3C%2Ffont%3E%3C%2Fdiv%3E%3C%2Fdiv%3E%3C%2FforeignObject%3E%3Ctext%20x%3D%2211%22%20y%3D%2220%22%20fill%3D%22%23000000%22%20text-anchor%3D%22middle%22%20font-size%3D%2212px%22%20font-family%3D%22Helvetica%22%3E%5BNot%20supported%20by%20viewer%5D%3C%2Ftext%3E%3C%2Fswitch%3E%3C%2Fg%3E%3Cg%20transform%3D%22translate%28249.5%2C225.5%29rotate%2890%2C10.5%2C14%29%22%3E%3Cswitch%3E%3CforeignObject%20style%3D%22overflow%3Avisible%3B%22%20pointer-events%3D%22all%22%20width%3D%2221%22%20height%3D%2228%22%20requiredFeatures%3D%22http%3A%2F%2Fwww.w3.org%2FTR%2FSVG11%2Ffeature%23Extensibility%22%3E%3Cdiv%20xmlns%3D%22http%3A%2F%2Fwww.w3.org%2F1999%2Fxhtml%22%20style%3D%22display%3A%20inline-block%3B%20font-size%3A%2012px%3B%20font-family%3A%20Helvetica%3B%20color%3A%20rgb%280%2C%200%2C%200%29%3B%20line-height%3A%201.2%3B%20vertical-align%3A%20top%3B%20width%3A%2022px%3B%20white-space%3A%20nowrap%3B%20word-wrap%3A%20normal%3B%20text-align%3A%20center%3B%22%3E%3Cdiv%20xmlns%3D%22http%3A%2F%2Fwww.w3.org%2F1999%2Fxhtml%22%20style%3D%22display%3Ainline-block%3Btext-align%3Ainherit%3Btext-decoration%3Ainherit%3B%22%3E%3Cfont%20style%3D%22font-size%3A%2025px%22%3E...%3C%2Ffont%3E%3C%2Fdiv%3E%3C%2Fdiv%3E%3C%2FforeignObject%3E%3Ctext%20x%3D%2211%22%20y%3D%2220%22%20fill%3D%22%23000000%22%20text-anchor%3D%22middle%22%20font-size%3D%2212px%22%20font-family%3D%22Helvetica%22%3E%5BNot%20supported%20by%20viewer%5D%3C%2Ftext%3E%3C%2Fswitch%3E%3C%2Fg%3E%3Cellipse%20cx%3D%22495%22%20cy%3D%2285%22%20rx%3D%2225%22%20ry%3D%2225%22%20fill%3D%22%23ffffff%22%20stroke%3D%22%23000000%22%20pointer-events%3D%22none%22%2F%3E%3Cg%20transform%3D%22translate%28488.5%2C69.5%29%22%3E%3Cswitch%3E%3CforeignObject%20style%3D%22overflow%3Avisible%3B%22%20pointer-events%3D%22all%22%20width%3D%2212%22%20height%3D%2230%22%20requiredFeatures%3D%22http%3A%2F%2Fwww.w3.org%2FTR%2FSVG11%2Ffeature%23Extensibility%22%3E%3Cdiv%20xmlns%3D%22http%3A%2F%2Fwww.w3.org%2F1999%2Fxhtml%22%20style%3D%22display%3A%20inline-block%3B%20font-size%3A%2012px%3B%20font-family%3A%20Helvetica%3B%20color%3A%20rgb%280%2C%200%2C%200%29%3B%20line-height%3A%201.2%3B%20vertical-align%3A%20top%3B%20width%3A%2013px%3B%20white-space%3A%20nowrap%3B%20word-wrap%3A%20normal%3B%20text-align%3A%20center%3B%22%3E%3Cdiv%20xmlns%3D%22http%3A%2F%2Fwww.w3.org%2F1999%2Fxhtml%22%20style%3D%22display%3Ainline-block%3Btext-align%3Ainherit%3Btext-decoration%3Ainherit%3B%22%3Ey%3Csub%3E1%3C%2Fsub%3E%3Cdiv%3E%3Csub%3E%3Cbr%20%2F%3E%3C%2Fsub%3E%3C%2Fdiv%3E%3C%2Fdiv%3E%3C%2Fdiv%3E%3C%2FforeignObject%3E%3Ctext%20x%3D%226%22%20y%3D%2221%22%20fill%3D%22%23000000%22%20text-anchor%3D%22middle%22%20font-size%3D%2212px%22%20font-family%3D%22Helvetica%22%3E%5BNot%20supported%20by%20viewer%5D%3C%2Ftext%3E%3C%2Fswitch%3E%3C%2Fg%3E%3Cellipse%20cx%3D%22495%22%20cy%3D%22145%22%20rx%3D%2225%22%20ry%3D%2225%22%20fill%3D%22%23ffffff%22%20stroke%3D%22%23000000%22%20pointer-events%3D%22none%22%2F%3E%3Cg%20transform%3D%22translate%28488.5%2C129.5%29%22%3E%3Cswitch%3E%3CforeignObject%20style%3D%22overflow%3Avisible%3B%22%20pointer-events%3D%22all%22%20width%3D%2212%22%20height%3D%2230%22%20requiredFeatures%3D%22http%3A%2F%2Fwww.w3.org%2FTR%2FSVG11%2Ffeature%23Extensibility%22%3E%3Cdiv%20xmlns%3D%22http%3A%2F%2Fwww.w3.org%2F1999%2Fxhtml%22%20style%3D%22display%3A%20inline-block%3B%20font-size%3A%2012px%3B%20font-family%3A%20Helvetica%3B%20color%3A%20rgb%280%2C%200%2C%200%29%3B%20line-height%3A%201.2%3B%20vertical-align%3A%20top%3B%20width%3A%2013px%3B%20white-space%3A%20nowrap%3B%20word-wrap%3A%20normal%3B%20text-align%3A%20center%3B%22%3E%3Cdiv%20xmlns%3D%22http%3A%2F%2Fwww.w3.org%2F1999%2Fxhtml%22%20style%3D%22display%3Ainline-block%3Btext-align%3Ainherit%3Btext-decoration%3Ainherit%3B%22%3Ey%3Csub%3E2%3C%2Fsub%3E%3Cdiv%3E%3Csub%3E%3Cbr%20%2F%3E%3C%2Fsub%3E%3C%2Fdiv%3E%3C%2Fdiv%3E%3C%2Fdiv%3E%3C%2FforeignObject%3E%3Ctext%20x%3D%226%22%20y%3D%2221%22%20fill%3D%22%23000000%22%20text-anchor%3D%22middle%22%20font-size%3D%2212px%22%20font-family%3D%22Helvetica%22%3E%5BNot%20supported%20by%20viewer%5D%3C%2Ftext%3E%3C%2Fswitch%3E%3C%2Fg%3E%3Cellipse%20cx%3D%22495%22%20cy%3D%22265%22%20rx%3D%2225%22%20ry%3D%2225%22%20fill%3D%22%23ffffff%22%20stroke%3D%22%23000000%22%20pointer-events%3D%22none%22%2F%3E%3Cg%20transform%3D%22translate%28485.5%2C249.5%29%22%3E%3Cswitch%3E%3CforeignObject%20style%3D%22overflow%3Avisible%3B%22%20pointer-events%3D%22all%22%20width%3D%2217%22%20height%3D%2230%22%20requiredFeatures%3D%22http%3A%2F%2Fwww.w3.org%2FTR%2FSVG11%2Ffeature%23Extensibility%22%3E%3Cdiv%20xmlns%3D%22http%3A%2F%2Fwww.w3.org%2F1999%2Fxhtml%22%20style%3D%22display%3A%20inline-block%3B%20font-size%3A%2012px%3B%20font-family%3A%20Helvetica%3B%20color%3A%20rgb%280%2C%200%2C%200%29%3B%20line-height%3A%201.2%3B%20vertical-align%3A%20top%3B%20width%3A%2018px%3B%20white-space%3A%20nowrap%3B%20word-wrap%3A%20normal%3B%20text-align%3A%20center%3B%22%3E%3Cdiv%20xmlns%3D%22http%3A%2F%2Fwww.w3.org%2F1999%2Fxhtml%22%20style%3D%22display%3Ainline-block%3Btext-align%3Ainherit%3Btext-decoration%3Ainherit%3B%22%3Ey%3Csub%3E10%3C%2Fsub%3E%3Cdiv%3E%3Csub%3E%3Cbr%20%2F%3E%3C%2Fsub%3E%3C%2Fdiv%3E%3C%2Fdiv%3E%3C%2Fdiv%3E%3C%2FforeignObject%3E%3Ctext%20x%3D%229%22%20y%3D%2221%22%20fill%3D%22%23000000%22%20text-anchor%3D%22middle%22%20font-size%3D%2212px%22%20font-family%3D%22Helvetica%22%3E%5BNot%20supported%20by%20viewer%5D%3C%2Ftext%3E%3C%2Fswitch%3E%3C%2Fg%3E%3Cg%20transform%3D%22translate%28489.5%2C195.5%29rotate%2890%2C10.5%2C14%29%22%3E%3Cswitch%3E%3CforeignObject%20style%3D%22overflow%3Avisible%3B%22%20pointer-events%3D%22all%22%20width%3D%2221%22%20height%3D%2228%22%20requiredFeatures%3D%22http%3A%2F%2Fwww.w3.org%2FTR%2FSVG11%2Ffeature%23Extensibility%22%3E%3Cdiv%20xmlns%3D%22http%3A%2F%2Fwww.w3.org%2F1999%2Fxhtml%22%20style%3D%22display%3A%20inline-block%3B%20font-size%3A%2012px%3B%20font-family%3A%20Helvetica%3B%20color%3A%20rgb%280%2C%200%2C%200%29%3B%20line-height%3A%201.2%3B%20vertical-align%3A%20top%3B%20width%3A%2022px%3B%20white-space%3A%20nowrap%3B%20word-wrap%3A%20normal%3B%20text-align%3A%20center%3B%22%3E%3Cdiv%20xmlns%3D%22http%3A%2F%2Fwww.w3.org%2F1999%2Fxhtml%22%20style%3D%22display%3Ainline-block%3Btext-align%3Ainherit%3Btext-decoration%3Ainherit%3B%22%3E%3Cfont%20style%3D%22font-size%3A%2025px%22%3E...%3C%2Ffont%3E%3C%2Fdiv%3E%3C%2Fdiv%3E%3C%2FforeignObject%3E%3Ctext%20x%3D%2211%22%20y%3D%2220%22%20fill%3D%22%23000000%22%20text-anchor%3D%22middle%22%20font-size%3D%2212px%22%20font-family%3D%22Helvetica%22%3E%5BNot%20supported%20by%20viewer%5D%3C%2Ftext%3E%3C%2Fswitch%3E%3C%2Fg%3E%3Cpath%20d%3D%22M%20144.95%20340.1%20L%20224.57%20297.84%22%20fill%3D%22none%22%20stroke%3D%22%236c8ebf%22%20stroke-miterlimit%3D%2210%22%20pointer-events%3D%22none%22%2F%3E%3Cpath%20d%3D%22M%20229.2%20295.38%20L%20224.66%20301.75%20L%20224.57%20297.84%20L%20221.38%20295.57%20Z%22%20fill%3D%22%236c8ebf%22%20stroke%3D%22%236c8ebf%22%20stroke-miterlimit%3D%2210%22%20pointer-events%3D%22none%22%2F%3E%3Cg%20transform%3D%22translate%28166.5%2C318.5%29%22%3E%3Cswitch%3E%3CforeignObject%20style%3D%22overflow%3Avisible%3B%22%20pointer-events%3D%22all%22%20width%3D%2230%22%20height%3D%2214%22%20requiredFeatures%3D%22http%3A%2F%2Fwww.w3.org%2FTR%2FSVG11%2Ffeature%23Extensibility%22%3E%3Cdiv%20xmlns%3D%22http%3A%2F%2Fwww.w3.org%2F1999%2Fxhtml%22%20style%3D%22display%3A%20inline-block%3B%20font-size%3A%2012px%3B%20font-family%3A%20Helvetica%3B%20color%3A%20rgb%28126%2C%20166%2C%20224%29%3B%20line-height%3A%201.2%3B%20vertical-align%3A%20top%3B%20white-space%3A%20nowrap%3B%20text-align%3A%20center%3B%22%3E%3Cdiv%20xmlns%3D%22http%3A%2F%2Fwww.w3.org%2F1999%2Fxhtml%22%20style%3D%22display%3Ainline-block%3Btext-align%3Ainherit%3Btext-decoration%3Ainherit%3Bbackground-color%3A%23ffffff%3B%22%3Eb1%3Csub%3E100%3C%2Fsub%3E%3C%2Fdiv%3E%3C%2Fdiv%3E%3C%2FforeignObject%3E%3Ctext%20x%3D%2215%22%20y%3D%2213%22%20fill%3D%22%237EA6E0%22%20text-anchor%3D%22middle%22%20font-size%3D%2212px%22%20font-family%3D%22Helvetica%22%3E%5BNot%20supported%20by%20viewer%5D%3C%2Ftext%3E%3C%2Fswitch%3E%3C%2Fg%3E%3Cpath%20d%3D%22M%20144.95%20340.1%20L%20227.27%20180.52%22%20fill%3D%22none%22%20stroke%3D%22%236c8ebf%22%20stroke-miterlimit%3D%2210%22%20pointer-events%3D%22none%22%2F%3E%3Cpath%20d%3D%22M%20229.68%20175.85%20L%20229.58%20183.68%20L%20227.27%20180.52%20L%20223.36%20180.47%20Z%22%20fill%3D%22%236c8ebf%22%20stroke%3D%22%236c8ebf%22%20stroke-miterlimit%3D%2210%22%20pointer-events%3D%22none%22%2F%3E%3Cg%20transform%3D%22translate%28166.5%2C274.5%29%22%3E%3Cswitch%3E%3CforeignObject%20style%3D%22overflow%3Avisible%3B%22%20pointer-events%3D%22all%22%20width%3D%2219%22%20height%3D%2214%22%20requiredFeatures%3D%22http%3A%2F%2Fwww.w3.org%2FTR%2FSVG11%2Ffeature%23Extensibility%22%3E%3Cdiv%20xmlns%3D%22http%3A%2F%2Fwww.w3.org%2F1999%2Fxhtml%22%20style%3D%22display%3A%20inline-block%3B%20font-size%3A%2012px%3B%20font-family%3A%20Helvetica%3B%20color%3A%20rgb%28126%2C%20166%2C%20224%29%3B%20line-height%3A%201.2%3B%20vertical-align%3A%20top%3B%20white-space%3A%20nowrap%3B%20text-align%3A%20center%3B%22%3E%3Cdiv%20xmlns%3D%22http%3A%2F%2Fwww.w3.org%2F1999%2Fxhtml%22%20style%3D%22display%3Ainline-block%3Btext-align%3Ainherit%3Btext-decoration%3Ainherit%3Bbackground-color%3A%23ffffff%3B%22%3Eb1%3Csub%3E3%3C%2Fsub%3E%3C%2Fdiv%3E%3C%2Fdiv%3E%3C%2FforeignObject%3E%3Ctext%20x%3D%2210%22%20y%3D%2213%22%20fill%3D%22%237EA6E0%22%20text-anchor%3D%22middle%22%20font-size%3D%2212px%22%20font-family%3D%22Helvetica%22%3E%5BNot%20supported%20by%20viewer%5D%3C%2Ftext%3E%3C%2Fswitch%3E%3C%2Fg%3E%3Cpath%20d%3D%22M%20144.95%20340.1%20L%20227.94%20120.81%22%20fill%3D%22none%22%20stroke%3D%22%236c8ebf%22%20stroke-miterlimit%3D%2210%22%20pointer-events%3D%22none%22%2F%3E%3Cpath%20d%3D%22M%20229.79%20115.9%20L%20230.59%20123.69%20L%20227.94%20120.81%20L%20224.04%20121.21%20Z%22%20fill%3D%22%236c8ebf%22%20stroke%3D%22%236c8ebf%22%20stroke-miterlimit%3D%2210%22%20pointer-events%3D%22none%22%2F%3E%3Cpath%20d%3D%22M%20144.95%20340.1%20L%20228.37%2060.96%22%20fill%3D%22none%22%20stroke%3D%22%236c8ebf%22%20stroke-miterlimit%3D%2210%22%20pointer-events%3D%22none%22%2F%3E%3Cpath%20d%3D%22M%20229.87%2055.93%20L%20231.22%2063.64%20L%20228.37%2060.96%20L%20224.51%2061.63%20Z%22%20fill%3D%22%236c8ebf%22%20stroke%3D%22%236c8ebf%22%20stroke-miterlimit%3D%2210%22%20pointer-events%3D%22none%22%2F%3E%3Cellipse%20cx%3D%22145%22%20cy%3D%22365%22%20rx%3D%2225%22%20ry%3D%2225%22%20fill%3D%22%23dae8fc%22%20stroke%3D%22%236c8ebf%22%20pointer-events%3D%22none%22%2F%3E%3Cg%20transform%3D%22translate%28137.5%2C358.5%29%22%3E%3Cswitch%3E%3CforeignObject%20style%3D%22overflow%3Avisible%3B%22%20pointer-events%3D%22all%22%20width%3D%2213%22%20height%3D%2212%22%20requiredFeatures%3D%22http%3A%2F%2Fwww.w3.org%2FTR%2FSVG11%2Ffeature%23Extensibility%22%3E%3Cdiv%20xmlns%3D%22http%3A%2F%2Fwww.w3.org%2F1999%2Fxhtml%22%20style%3D%22display%3A%20inline-block%3B%20font-size%3A%2012px%3B%20font-family%3A%20Helvetica%3B%20color%3A%20rgb%28126%2C%20166%2C%20224%29%3B%20line-height%3A%201.2%3B%20vertical-align%3A%20top%3B%20width%3A%2014px%3B%20white-space%3A%20nowrap%3B%20word-wrap%3A%20normal%3B%20text-align%3A%20center%3B%22%3E%3Cdiv%20xmlns%3D%22http%3A%2F%2Fwww.w3.org%2F1999%2Fxhtml%22%20style%3D%22display%3Ainline-block%3Btext-align%3Ainherit%3Btext-decoration%3Ainherit%3B%22%3Eb1%3C%2Fdiv%3E%3C%2Fdiv%3E%3C%2FforeignObject%3E%3Ctext%20x%3D%227%22%20y%3D%2212%22%20fill%3D%22%237EA6E0%22%20text-anchor%3D%22middle%22%20font-size%3D%2212px%22%20font-family%3D%22Helvetica%22%3Eb1%3C%2Ftext%3E%3C%2Fswitch%3E%3C%2Fg%3E%3Cpath%20d%3D%22M%20364.95%20340.1%20L%20467.76%2090.74%22%20fill%3D%22none%22%20stroke%3D%22%236c8ebf%22%20stroke-miterlimit%3D%2210%22%20pointer-events%3D%22none%22%2F%3E%3Cpath%20d%3D%22M%20469.76%2085.89%20L%20470.33%2093.7%20L%20467.76%2090.74%20L%20463.86%2091.03%20Z%22%20fill%3D%22%236c8ebf%22%20stroke%3D%22%236c8ebf%22%20stroke-miterlimit%3D%2210%22%20pointer-events%3D%22none%22%2F%3E%3Cpath%20d%3D%22M%20364.95%20340.1%20L%20467.17%20150.46%22%20fill%3D%22none%22%20stroke%3D%22%236c8ebf%22%20stroke-miterlimit%3D%2210%22%20pointer-events%3D%22none%22%2F%3E%3Cpath%20d%3D%22M%20469.66%20145.84%20L%20469.42%20153.66%20L%20467.17%20150.46%20L%20463.26%20150.34%20Z%22%20fill%3D%22%236c8ebf%22%20stroke%3D%22%236c8ebf%22%20stroke-miterlimit%3D%2210%22%20pointer-events%3D%22none%22%2F%3E%3Cg%20transform%3D%22translate%28436.5%2C184.5%29%22%3E%3Cswitch%3E%3CforeignObject%20style%3D%22overflow%3Avisible%3B%22%20pointer-events%3D%22all%22%20width%3D%2219%22%20height%3D%2214%22%20requiredFeatures%3D%22http%3A%2F%2Fwww.w3.org%2FTR%2FSVG11%2Ffeature%23Extensibility%22%3E%3Cdiv%20xmlns%3D%22http%3A%2F%2Fwww.w3.org%2F1999%2Fxhtml%22%20style%3D%22display%3A%20inline-block%3B%20font-size%3A%2012px%3B%20font-family%3A%20Helvetica%3B%20color%3A%20rgb%28126%2C%20166%2C%20224%29%3B%20line-height%3A%201.2%3B%20vertical-align%3A%20top%3B%20white-space%3A%20nowrap%3B%20text-align%3A%20center%3B%22%3E%3Cdiv%20xmlns%3D%22http%3A%2F%2Fwww.w3.org%2F1999%2Fxhtml%22%20style%3D%22display%3Ainline-block%3Btext-align%3Ainherit%3Btext-decoration%3Ainherit%3Bbackground-color%3A%23ffffff%3B%22%3Eb2%3Csub%3E2%3C%2Fsub%3E%3C%2Fdiv%3E%3C%2Fdiv%3E%3C%2FforeignObject%3E%3Ctext%20x%3D%2210%22%20y%3D%2213%22%20fill%3D%22%237EA6E0%22%20text-anchor%3D%22middle%22%20font-size%3D%2212px%22%20font-family%3D%22Helvetica%22%3E%5BNot%20supported%20by%20viewer%5D%3C%2Ftext%3E%3C%2Fswitch%3E%3C%2Fg%3E%3Cpath%20d%3D%22M%20364.95%20340.1%20L%20465.01%20268.56%22%20fill%3D%22none%22%20stroke%3D%22%236c8ebf%22%20stroke-miterlimit%3D%2210%22%20pointer-events%3D%22none%22%2F%3E%3Cpath%20d%3D%22M%20469.28%20265.51%20L%20465.62%20272.43%20L%20465.01%20268.56%20L%20461.55%20266.73%20Z%22%20fill%3D%22%236c8ebf%22%20stroke%3D%22%236c8ebf%22%20stroke-miterlimit%3D%2210%22%20pointer-events%3D%22none%22%2F%3E%3Cg%20transform%3D%22translate%28406.5%2C295.5%29%22%3E%3Cswitch%3E%3CforeignObject%20style%3D%22overflow%3Avisible%3B%22%20pointer-events%3D%22all%22%20width%3D%2222%22%20height%3D%2213%22%20requiredFeatures%3D%22http%3A%2F%2Fwww.w3.org%2FTR%2FSVG11%2Ffeature%23Extensibility%22%3E%3Cdiv%20xmlns%3D%22http%3A%2F%2Fwww.w3.org%2F1999%2Fxhtml%22%20style%3D%22display%3A%20inline-block%3B%20font-size%3A%2011px%3B%20font-family%3A%20Helvetica%3B%20color%3A%20rgb%28126%2C%20166%2C%20224%29%3B%20line-height%3A%201.2%3B%20vertical-align%3A%20top%3B%20white-space%3A%20nowrap%3B%20text-align%3A%20center%3B%22%3E%3Cdiv%20xmlns%3D%22http%3A%2F%2Fwww.w3.org%2F1999%2Fxhtml%22%20style%3D%22display%3Ainline-block%3Btext-align%3Ainherit%3Btext-decoration%3Ainherit%3Bbackground-color%3A%23ffffff%3B%22%3Eb2%3Csub%3E10%3C%2Fsub%3E%3C%2Fdiv%3E%3C%2Fdiv%3E%3C%2FforeignObject%3E%3Ctext%20x%3D%2211%22%20y%3D%2212%22%20fill%3D%22%237EA6E0%22%20text-anchor%3D%22middle%22%20font-size%3D%2211px%22%20font-family%3D%22Helvetica%22%3E%5BNot%20supported%20by%20viewer%5D%3C%2Ftext%3E%3C%2Fswitch%3E%3C%2Fg%3E%3Cellipse%20cx%3D%22365%22%20cy%3D%22365%22%20rx%3D%2225%22%20ry%3D%2225%22%20fill%3D%22%23dae8fc%22%20stroke%3D%22%236c8ebf%22%20pointer-events%3D%22none%22%2F%3E%3Cg%20transform%3D%22translate%28357.5%2C358.5%29%22%3E%3Cswitch%3E%3CforeignObject%20style%3D%22overflow%3Avisible%3B%22%20pointer-events%3D%22all%22%20width%3D%2213%22%20height%3D%2212%22%20requiredFeatures%3D%22http%3A%2F%2Fwww.w3.org%2FTR%2FSVG11%2Ffeature%23Extensibility%22%3E%3Cdiv%20xmlns%3D%22http%3A%2F%2Fwww.w3.org%2F1999%2Fxhtml%22%20style%3D%22display%3A%20inline-block%3B%20font-size%3A%2012px%3B%20font-family%3A%20Helvetica%3B%20color%3A%20rgb%28126%2C%20166%2C%20224%29%3B%20line-height%3A%201.2%3B%20vertical-align%3A%20top%3B%20width%3A%2014px%3B%20white-space%3A%20nowrap%3B%20word-wrap%3A%20normal%3B%20text-align%3A%20center%3B%22%3E%3Cdiv%20xmlns%3D%22http%3A%2F%2Fwww.w3.org%2F1999%2Fxhtml%22%20style%3D%22display%3Ainline-block%3Btext-align%3Ainherit%3Btext-decoration%3Ainherit%3B%22%3Eb2%3C%2Fdiv%3E%3C%2Fdiv%3E%3C%2FforeignObject%3E%3Ctext%20x%3D%227%22%20y%3D%2212%22%20fill%3D%22%237EA6E0%22%20text-anchor%3D%22middle%22%20font-size%3D%2212px%22%20font-family%3D%22Helvetica%22%3Eb2%3C%2Ftext%3E%3C%2Fswitch%3E%3C%2Fg%3E%3Cpath%20d%3D%22M%20245%20314%20L%20265%20314%22%20fill%3D%22none%22%20stroke%3D%22%23666666%22%20stroke-miterlimit%3D%2210%22%20stroke-dasharray%3D%223%203%22%20pointer-events%3D%22none%22%2F%3E%3Cpath%20d%3D%22M%20255%20319%20L%20255%20295%22%20fill%3D%22none%22%20stroke%3D%22%23666666%22%20stroke-miterlimit%3D%2210%22%20stroke-dasharray%3D%223%203%22%20pointer-events%3D%22none%22%2F%3E%3Cpath%20d%3D%22M%20245%20314%20L%20255%20314%22%20fill%3D%22none%22%20stroke%3D%22%23d79b00%22%20stroke-miterlimit%3D%2210%22%20pointer-events%3D%22none%22%2F%3E%3Cpath%20d%3D%22M%20255%20314%20L%20270%20299%22%20fill%3D%22none%22%20stroke%3D%22%23d79b00%22%20stroke-miterlimit%3D%2210%22%20pointer-events%3D%22none%22%2F%3E%3Cpath%20d%3D%22M%20244%20194%20L%20264%20194%22%20fill%3D%22none%22%20stroke%3D%22%23666666%22%20stroke-miterlimit%3D%2210%22%20stroke-dasharray%3D%223%203%22%20pointer-events%3D%22none%22%2F%3E%3Cpath%20d%3D%22M%20254%20199%20L%20254%20175%22%20fill%3D%22none%22%20stroke%3D%22%23666666%22%20stroke-miterlimit%3D%2210%22%20stroke-dasharray%3D%223%203%22%20pointer-events%3D%22none%22%2F%3E%3Cpath%20d%3D%22M%20244%20194%20L%20254%20194%22%20fill%3D%22none%22%20stroke%3D%22%23d79b00%22%20stroke-miterlimit%3D%2210%22%20pointer-events%3D%22none%22%2F%3E%3Cpath%20d%3D%22M%20254%20194%20L%20269%20179%22%20fill%3D%22none%22%20stroke%3D%22%23d79b00%22%20stroke-miterlimit%3D%2210%22%20pointer-events%3D%22none%22%2F%3E%3Cpath%20d%3D%22M%20244%20134%20L%20264%20134%22%20fill%3D%22none%22%20stroke%3D%22%23666666%22%20stroke-miterlimit%3D%2210%22%20stroke-dasharray%3D%223%203%22%20pointer-events%3D%22none%22%2F%3E%3Cpath%20d%3D%22M%20254%20139%20L%20254%20115%22%20fill%3D%22none%22%20stroke%3D%22%23666666%22%20stroke-miterlimit%3D%2210%22%20stroke-dasharray%3D%223%203%22%20pointer-events%3D%22none%22%2F%3E%3Cpath%20d%3D%22M%20244%20134%20L%20254%20134%22%20fill%3D%22none%22%20stroke%3D%22%23d79b00%22%20stroke-miterlimit%3D%2210%22%20pointer-events%3D%22none%22%2F%3E%3Cpath%20d%3D%22M%20254%20134%20L%20269%20119%22%20fill%3D%22none%22%20stroke%3D%22%23d79b00%22%20stroke-miterlimit%3D%2210%22%20pointer-events%3D%22none%22%2F%3E%3Cpath%20d%3D%22M%20244%2074%20L%20264%2074%22%20fill%3D%22none%22%20stroke%3D%22%23666666%22%20stroke-miterlimit%3D%2210%22%20stroke-dasharray%3D%223%203%22%20pointer-events%3D%22none%22%2F%3E%3Cpath%20d%3D%22M%20254%2079%20L%20254%2055%22%20fill%3D%22none%22%20stroke%3D%22%23666666%22%20stroke-miterlimit%3D%2210%22%20stroke-dasharray%3D%223%203%22%20pointer-events%3D%22none%22%2F%3E%3Cpath%20d%3D%22M%20244%2074%20L%20254%2074%22%20fill%3D%22none%22%20stroke%3D%22%23d79b00%22%20stroke-miterlimit%3D%2210%22%20pointer-events%3D%22none%22%2F%3E%3Cpath%20d%3D%22M%20254%2074%20L%20269%2059%22%20fill%3D%22none%22%20stroke%3D%22%23d79b00%22%20stroke-miterlimit%3D%2210%22%20pointer-events%3D%22none%22%2F%3E%3Cpath%20d%3D%22M%20485%20159%20L%20505%20159%22%20fill%3D%22none%22%20stroke%3D%22%23666666%22%20stroke-miterlimit%3D%2210%22%20stroke-dasharray%3D%223%203%22%20pointer-events%3D%22none%22%2F%3E%3Cpath%20d%3D%22M%20495%20169%20L%20495%20145%22%20fill%3D%22none%22%20stroke%3D%22%23666666%22%20stroke-miterlimit%3D%2210%22%20stroke-dasharray%3D%223%203%22%20pointer-events%3D%22none%22%2F%3E%3Cpath%20d%3D%22M%20484%20166%20L%20487%20165.5%20Q%20490%20165%20495%20158.5%20L%20497.5%20155.25%20Q%20500%20152%20504%20151.5%20L%20508%20151%22%20fill%3D%22none%22%20stroke%3D%22%23d79b00%22%20stroke-miterlimit%3D%2210%22%20pointer-events%3D%22none%22%2F%3E%3Cpath%20d%3D%22M%20485%2099%20L%20505%2099%22%20fill%3D%22none%22%20stroke%3D%22%23666666%22%20stroke-miterlimit%3D%2210%22%20stroke-dasharray%3D%223%203%22%20pointer-events%3D%22none%22%2F%3E%3Cpath%20d%3D%22M%20495%20109%20L%20495%2085%22%20fill%3D%22none%22%20stroke%3D%22%23666666%22%20stroke-miterlimit%3D%2210%22%20stroke-dasharray%3D%223%203%22%20pointer-events%3D%22none%22%2F%3E%3Cpath%20d%3D%22M%20484%20106%20L%20487%20105.5%20Q%20490%20105%20495%2098.5%20L%20497.5%2095.25%20Q%20500%2092%20504%2091.5%20L%20508%2091%22%20fill%3D%22none%22%20stroke%3D%22%23d79b00%22%20stroke-miterlimit%3D%2210%22%20pointer-events%3D%22none%22%2F%3E%3Cpath%20d%3D%22M%20485%20279%20L%20505%20279%22%20fill%3D%22none%22%20stroke%3D%22%23666666%22%20stroke-miterlimit%3D%2210%22%20stroke-dasharray%3D%223%203%22%20pointer-events%3D%22none%22%2F%3E%3Cpath%20d%3D%22M%20495%20289%20L%20495%20265%22%20fill%3D%22none%22%20stroke%3D%22%23666666%22%20stroke-miterlimit%3D%2210%22%20stroke-dasharray%3D%223%203%22%20pointer-events%3D%22none%22%2F%3E%3Cpath%20d%3D%22M%20484%20286%20L%20487%20285.5%20Q%20490%20285%20495%20278.5%20L%20497.5%20275.25%20Q%20500%20272%20504%20271.5%20L%20508%20271%22%20fill%3D%22none%22%20stroke%3D%22%23d79b00%22%20stroke-miterlimit%3D%2210%22%20pointer-events%3D%22none%22%2F%3E%3C%2Fg%3E%3C%2Fsvg%3E)"
   ]
  },
  {
   "cell_type": "markdown",
   "metadata": {},
   "source": [
    "## Building the Network\n"
   ]
  },
  {
   "cell_type": "code",
   "execution_count": null,
   "metadata": {},
   "outputs": [],
   "source": [
    "import numpy as np\n",
    "import matplotlib.pyplot as plt\n",
    "import matplotlib.image as mpimg\n",
    "\n",
    "import tensorflow as tf\n",
    "#defining placesholders for input values\n",
    "with tf.variable_scope(\"input\"):\n",
    "    x = tf.placeholder(tf.float32, shape=(None, 784))\n",
    "    y_target = tf.placeholder(tf.float32, shape=(None, 10))"
   ]
  },
  {
   "cell_type": "code",
   "execution_count": null,
   "metadata": {
    "scrolled": true
   },
   "outputs": [],
   "source": [
    "#defining placesholders for standardDeviation\n",
    "stdDeviation = 0.3\n",
    "w1 = tf.Variable(tf.random_normal([784, 100],stddev=stdDeviation), name=\"weights1\")\n",
    "b1 = tf.Variable(tf.zeros([100]), name=\"biases1\")\n",
    "\n",
    "#adding values to tensorboard summary\n",
    "tf.summary.histogram(\"weights_1\", w1)\n",
    "tf.summary.histogram(\"biases_1\", b1)\n",
    "\n",
    "#output layer 1 \n",
    "hiddenLayer = tf.nn.relu(tf.add((x @ w1), b1))"
   ]
  },
  {
   "cell_type": "code",
   "execution_count": null,
   "metadata": {},
   "outputs": [],
   "source": [
    "w2 = tf.Variable(tf.random_normal([100, 10],stddev=stdDeviation), name=\"weights2\")\n",
    "b2 = tf.Variable(tf.zeros([10]), name=\"biases2\")\n",
    "\n",
    "tf.summary.histogram(\"weights_2\", w2)\n",
    "tf.summary.histogram(\"biases_2\", b2)\n",
    "\n",
    "outputLogits = tf.add(hiddenLayer@w2, b2) #output of the last layer without activation function\n",
    "y =  tf.nn.softmax(outputLogits) #final output with activation function"
   ]
  },
  {
   "cell_type": "code",
   "execution_count": null,
   "metadata": {},
   "outputs": [],
   "source": [
    "# apply activation function (softmax) + loss function (cross entropy)\n",
    "crossEntropy = tf.nn.softmax_cross_entropy_with_logits_v2(labels=y_target, logits=outputLogits)\n",
    "averageLoss = tf.reduce_mean(crossEntropy)\n",
    "\n",
    "tf.summary.scalar(\"crossEntropy\", averageLoss) #adding summary for tensorboard"
   ]
  },
  {
   "cell_type": "code",
   "execution_count": null,
   "metadata": {},
   "outputs": [],
   "source": [
    "with tf.variable_scope(\"learningRatePlaceholder\"):\n",
    "    learningRate = tf.placeholder(\n",
    "        tf.float32\n",
    "    )\n",
    "    \n",
    "optimizer = tf.train.GradientDescentOptimizer(learningRate)\n",
    "minimizer = optimizer.minimize(averageLoss)"
   ]
  },
  {
   "cell_type": "code",
   "execution_count": null,
   "metadata": {},
   "outputs": [],
   "source": [
    "accuracy = tf.reduce_mean(tf.cast(tf.equal(tf.argmax(y, 1), tf.argmax(y_target, 1)), dtype=tf.float32))\n",
    "tf.summary.scalar(\"accuracy\", accuracy) #adding summary for tensorboard"
   ]
  },
  {
   "cell_type": "markdown",
   "metadata": {},
   "source": [
    "## Training the Model\n"
   ]
  },
  {
   "cell_type": "code",
   "execution_count": null,
   "metadata": {},
   "outputs": [],
   "source": [
    "session = tf.Session()\n",
    "init = tf.global_variables_initializer()\n",
    "\n",
    "mergedSummaries = tf.summary.merge_all() #merge accuracy and loss summary\n",
    "\n",
    "# define writer for tensorboard\n",
    "writer = tf.summary.FileWriter(LOG_DIR)\n",
    "writer.add_graph(session.graph)\n"
   ]
  },
  {
   "cell_type": "code",
   "execution_count": null,
   "metadata": {},
   "outputs": [],
   "source": [
    "\"\"\" EMBEDDING IMPLEMENTATION \"\"\"\n",
    "\n",
    "batch_xs, batch_ys = mnist.train.next_batch(1000) #batches for embedding\n",
    "embedding_var = tf.Variable(batch_xs, name='embedding')\n",
    "\n",
    "config = projector.ProjectorConfig()\n",
    "embedding = config.embeddings.add()\n",
    "embedding.tensor_name = embedding_var.name\n",
    "\n",
    "#paths\n",
    "embedding.metadata_path = path_for_mnist_metadata \n",
    "embedding.sprite.image_path = path_for_mnist_sprites \n",
    "\n",
    "\n",
    "embedding.sprite.single_image_dim.extend([28,28]) \n",
    "\n",
    "projector.visualize_embeddings(writer, config) \n",
    "\n",
    "\n",
    "def create_sprite_image(images):\n",
    "    \"\"\"Returns a sprite image consisting of images passed as argument. Images should be count x width x height\"\"\"\n",
    "    if isinstance(images, list):\n",
    "        images = np.array(images)\n",
    "    img_h = images.shape[1]\n",
    "    img_w = images.shape[2]\n",
    "    n_plots = int(np.ceil(np.sqrt(images.shape[0])))\n",
    "    \n",
    "    \n",
    "    spriteimage = np.ones((img_h * n_plots ,img_w * n_plots ))\n",
    "    \n",
    "    for i in range(n_plots):\n",
    "        for j in range(n_plots):\n",
    "            this_filter = i * n_plots + j\n",
    "            if this_filter < images.shape[0]:\n",
    "                this_img = images[this_filter]\n",
    "                spriteimage[i * img_h:(i + 1) * img_h,\n",
    "                  j * img_w:(j + 1) * img_w] = this_img\n",
    "    \n",
    "    return spriteimage\n",
    "\n",
    "def vector_to_matrix_mnist(mnist_digits):\n",
    "    \"\"\"Reshapes normal mnist digit (batch,28*28) to matrix (batch,28,28)\"\"\"\n",
    "    return np.reshape(mnist_digits,(-1,28,28))\n",
    "\n",
    "def invert_grayscale(mnist_digits):\n",
    "    \"\"\" Makes black white, and white black \"\"\"\n",
    "    return 1-mnist_digits\n",
    "\n",
    "to_visualise = batch_xs\n",
    "to_visualise = vector_to_matrix_mnist(to_visualise)\n",
    "to_visualise = invert_grayscale(to_visualise)\n",
    "\n",
    "sprite_image = create_sprite_image(to_visualise)\n",
    "\n",
    "plt.imsave(path_for_mnist_sprites,sprite_image,cmap='gray')\n",
    "plt.imshow(sprite_image,cmap='gray')\n",
    "\n",
    "with open(path_for_mnist_metadata,'w') as f:\n",
    "    f.write(\"Index\\tLabel\\n\")\n",
    "    for index,label in enumerate(batch_ys):\n",
    "        f.write(\"%d\\t%d\\n\" % (index, np.argmax(label)))\n"
   ]
  },
  {
   "cell_type": "code",
   "execution_count": null,
   "metadata": {
    "scrolled": true
   },
   "outputs": [],
   "source": [
    "init = tf.global_variables_initializer()\n",
    "session.run(init)\n",
    "saver = tf.train.Saver()\n",
    "\n",
    "for i in range (0, 10000):    \n",
    "    batch_x, batch_y = mnist.train.next_batch(100)\n",
    "    session.run(minimizer, feed_dict = {x: batch_x, y_target: batch_y, learningRate: 1.})\n",
    "\n",
    "    if (i % 5 == 0):\n",
    "        batch_x, batch_y = mnist.test.next_batch(1000) #use test data \n",
    "        acc, summary = session.run([accuracy, mergedSummaries], feed_dict={x: batch_x, y_target: batch_y, learningRate:1.})\n",
    "\n",
    "        writer.add_summary(summary, i) #add summary for tensorboard\n",
    "\n",
    "\n",
    "        if (i % 500 == 0):\n",
    "            print(\"Step: \", i, \" accuracy: \", acc)\n",
    "            saver.save(session, os.path.join(LOG_DIR, \"model.ckpt\"), 1) #saving session for embedding\n",
    "            \n"
   ]
  },
  {
   "cell_type": "code",
   "execution_count": null,
   "metadata": {},
   "outputs": [],
   "source": [
    "session.close()"
   ]
  },
  {
   "cell_type": "markdown",
   "metadata": {},
   "source": [
    "LeCun, Y., & Cortes, C. (2010). The MNIST database of handwritten digits. Retrieved from http://yann.lecun.com/exdb/mnist"
   ]
  },
  {
   "cell_type": "markdown",
   "metadata": {},
   "source": [
    "## Conclusion\n",
    "\n",
    "At first the idea of sessions in Tensorflow is a bit difficult to understand. The fact that sessions are defined first and executed later can make it difficult to debug, especially if one is new to Tensorflow and tries to get log messages while implementing the neural network. But creating a Multi-Layer-Perceptron was rather simple in the end. Only the key functions that define this specific MLP have to be created. The rest is done by Tensorflow by providing many commonly used functions.\n",
    "\n",
    "When testing our MLP, we gained the following information: After 1000 steps, the accuracy was already at about 95% and increased only marginally over the following increments. It often happens that it actually slightly decreases over some increments. While accuracy is not the only way to measure the performance of a neural network, it works well in our case, since the test data is evenly distributed. We even reached a higher accuracy than expected. This is caused by using a standard deviation of 0.3 when initializing the weights. Unlike defaulting to 1, this initializes the weights with values that are closer to 0. Further decreasing the standard deviation however did not result in a better accuracy. We also used a slightly higher learning rate of 1., which increased the accuracy about one percentage point on average. Again, further increasing the learning rate did not increase the accuracy. To further measure the performance when using different parameters, other metrics like precision, recall and F1-Score should also be taken into account.\n",
    "\n",
    "These results where found by running the neural network multiple times with different parameters and comparing the accuracy through several iterations. To validate the parameter changes we did to increase the accuracy, we would need to test multiple versions of the trained neural network against a consistent and sufficiently large set of test data."
   ]
  },
  {
   "cell_type": "markdown",
   "metadata": {},
   "source": [
    "### Using Visualization ###\n",
    "\n",
    "To get a better understanding of the model, we decided to use the visualization tool tensorboard. \n",
    "The board can be opened by using tensorboard --logdir /tmp/mnist/5 and opening http://localhost:6006/\n",
    "\n",
    "#### Visualizing how our model handles the data ####\n",
    "Tensorboard offers with \"embedding\" a great tool that helped us to better understand how our network handles the data set.\n",
    "To realize this we safe one training batch of the size of 10000 with all the used digit images to tensorboard. During the training we safe our trained model to tensorboard every 500 iterations. After the training is completed, tensorboard shows us in a three-dimensional view, how the model handled the data and reordered the images in groups. Similar images are grouped next to each other whereas dissimilar images are located far from each other.\n",
    "\n",
    "<img src=\"img/projection.png\">\n",
    "\n",
    "\n",
    "The projection tool also shows us, why some digits are classified in the wrong way. For example this \"4\" has obvious similarities to a \"1\" why a misclassification is not surprising.\n",
    "<img src=\"img/miss-classification.png\">\n",
    "\n",
    "\n",
    "#### Developing a better learning rate ####\n",
    "As a second step we used tensorboard to develop the \"best\" learning rate for our model: We ran the session several times with different learning rates (0.001, 0.01, 0.1, 0.5, 1.0) and saved a summary of both accuracy and the loss of our cross Entropy:\n",
    "\n",
    "<img src=\"img/accuracy-crossEntropy.jpg\">\n",
    "\n",
    "\n",
    "The results showed us that for our training setup, a learning rate of 1.0 achieves the lowest loss and resulting out of this, the highest accuracy. However the visualization also demonstrates that the effects of learning rates between 0.1 and 1.0, do not differ significantly.\n",
    "\n",
    "#### Visualizing weights and biases process ####\n",
    "We safed the weights and biases during the training in a histogram to evaluate whether they are actually changing during the process.\n",
    "\n",
    "\n",
    "Value development of the biases and weights of the hidden layer:\n",
    "<img src=\"img/biases-image.png\">\n",
    "<img src=\"img/weights-image.png\">\n",
    "\n",
    "As depictured the weights are only variating in very small steps wheras the changes of the biases are fluctuating. "
   ]
  },
  {
   "cell_type": "code",
   "execution_count": null,
   "metadata": {},
   "outputs": [],
   "source": []
  }
 ],
 "metadata": {
  "kernelspec": {
   "display_name": "Python 3",
   "language": "python",
   "name": "python3"
  },
  "language_info": {
   "codemirror_mode": {
    "name": "ipython",
    "version": 3
   },
   "file_extension": ".py",
   "mimetype": "text/x-python",
   "name": "python",
   "nbconvert_exporter": "python",
   "pygments_lexer": "ipython3",
   "version": "3.6.4"
  },
  "nav_menu": {},
  "toc": {
   "navigate_menu": true,
   "number_sections": true,
   "sideBar": true,
   "threshold": 6,
   "toc_cell": false,
   "toc_section_display": "block",
   "toc_window_display": false
  }
 },
 "nbformat": 4,
 "nbformat_minor": 2
}
